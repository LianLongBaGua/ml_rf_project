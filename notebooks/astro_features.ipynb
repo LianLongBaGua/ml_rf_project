{
 "cells": [
  {
   "cell_type": "code",
   "execution_count": 2,
   "metadata": {},
   "outputs": [],
   "source": [
    "import sys\n",
    "sys.path.append('../')"
   ]
  },
  {
   "cell_type": "code",
   "execution_count": 3,
   "metadata": {},
   "outputs": [],
   "source": [
    "import joblib\n",
    "model = joblib.load('../model/HGBR_SP_0907.pkl')"
   ]
  },
  {
   "cell_type": "code",
   "execution_count": 4,
   "metadata": {},
   "outputs": [
    {
     "data": {
      "text/plain": [
       "array(['tta_ATR_timeperiod_7', 'tta_MOM_timeperiod_16',\n",
       "       'tta_MOM_timeperiod_22', 'tta_MOM_timeperiod_7',\n",
       "       'tta_MOM_timeperiod_33', 'tta_MOM_timeperiod_41',\n",
       "       'tta_MOM_timeperiod_57', 'tta_LINEARREG_SLOPE_timeperiod_7',\n",
       "       'tta_LINEARREG_SLOPE_timeperiod_11',\n",
       "       'tta_LINEARREG_SLOPE_timeperiod_22', 'tta_MOM_timeperiod_103',\n",
       "       'tta_LINEARREG_SLOPE_timeperiod_54', 'tta_MOM_timeperiod_213',\n",
       "       'tta_LINEARREG_SLOPE_timeperiod_103', 'tta_RSI_timeperiod_23',\n",
       "       'tta_RSI_timeperiod_7', 'tta_LINEARREG_SLOPE_timeperiod_204',\n",
       "       'tta_RSI_timeperiod_105', 'tta_ADX_timeperiod_16',\n",
       "       'tta_ADX_timeperiod_7', 'tta_ADX_timeperiod_61',\n",
       "       'tta_ADX_timeperiod_104', 'tta_ADX_timeperiod_240',\n",
       "       'lagged_target_30', 'lagged_target_380', 'lagged_target_120',\n",
       "       'lagged_target_240', 'lagged_target_400', 'time_hour_sin',\n",
       "       'time_hour_cos', 'time_minute_sin', 'time_minute_cos',\n",
       "       'time_day_of_week_sin', 'time_day_of_week_cos',\n",
       "       'time_day_of_month_sin', 'time_day_of_month_cos'], dtype=object)"
      ]
     },
     "execution_count": 4,
     "metadata": {},
     "output_type": "execute_result"
    }
   ],
   "source": [
    "model.feature_names_in_"
   ]
  }
 ],
 "metadata": {
  "kernelspec": {
   "display_name": "Python 3",
   "language": "python",
   "name": "python3"
  },
  "language_info": {
   "codemirror_mode": {
    "name": "ipython",
    "version": 3
   },
   "file_extension": ".py",
   "mimetype": "text/x-python",
   "name": "python",
   "nbconvert_exporter": "python",
   "pygments_lexer": "ipython3",
   "version": "3.10.9"
  },
  "orig_nbformat": 4
 },
 "nbformat": 4,
 "nbformat_minor": 2
}
