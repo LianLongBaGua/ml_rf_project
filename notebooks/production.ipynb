{
 "cells": [
  {
   "cell_type": "code",
   "execution_count": 1,
   "metadata": {},
   "outputs": [],
   "source": [
    "import sys\n",
    "sys.path.append('../src/')"
   ]
  },
  {
   "cell_type": "code",
   "execution_count": 2,
   "metadata": {},
   "outputs": [],
   "source": [
    "import pandas as pd\n",
    "import numpy as np\n",
    "from talib_map import ta_map, func_map\n",
    "import re\n",
    "from functools import partial\n",
    "from features_extraction import *\n",
    "from targets_extraction import *"
   ]
  },
  {
   "cell_type": "code",
   "execution_count": 3,
   "metadata": {},
   "outputs": [],
   "source": [
    "df = pd.read_csv(\"../data/data.csv\")"
   ]
  },
  {
   "cell_type": "code",
   "execution_count": 5,
   "metadata": {},
   "outputs": [],
   "source": [
    "df = prepare_desired_pos(df, 10, 10)"
   ]
  },
  {
   "cell_type": "code",
   "execution_count": 34,
   "metadata": {},
   "outputs": [],
   "source": [
    "df['desired_pos_change_adj'] = df['desired_pos_change'] - df['desired_pos_change'].shift(10).fillna(0)"
   ]
  },
  {
   "cell_type": "code",
   "execution_count": 6,
   "metadata": {},
   "outputs": [
    {
     "data": {
      "text/html": [
       "<div>\n",
       "<style scoped>\n",
       "    .dataframe tbody tr th:only-of-type {\n",
       "        vertical-align: middle;\n",
       "    }\n",
       "\n",
       "    .dataframe tbody tr th {\n",
       "        vertical-align: top;\n",
       "    }\n",
       "\n",
       "    .dataframe thead th {\n",
       "        text-align: right;\n",
       "    }\n",
       "</style>\n",
       "<table border=\"1\" class=\"dataframe\">\n",
       "  <thead>\n",
       "    <tr style=\"text-align: right;\">\n",
       "      <th></th>\n",
       "      <th>symbol</th>\n",
       "      <th>exchange</th>\n",
       "      <th>datetime</th>\n",
       "      <th>open</th>\n",
       "      <th>high</th>\n",
       "      <th>low</th>\n",
       "      <th>close</th>\n",
       "      <th>volume</th>\n",
       "      <th>turnover</th>\n",
       "      <th>open_interest</th>\n",
       "      <th>desired_pos_change</th>\n",
       "      <th>pos_change_signal</th>\n",
       "      <th>desired_pos_rolling</th>\n",
       "      <th>net_pos_signal</th>\n",
       "    </tr>\n",
       "  </thead>\n",
       "  <tbody>\n",
       "    <tr>\n",
       "      <th>0</th>\n",
       "      <td>SP99</td>\n",
       "      <td>CZCE</td>\n",
       "      <td>2018-11-27 09:00:00</td>\n",
       "      <td>5830.9811</td>\n",
       "      <td>5833.1616</td>\n",
       "      <td>5663.3209</td>\n",
       "      <td>5689.4757</td>\n",
       "      <td>16068.0</td>\n",
       "      <td>926916280.0</td>\n",
       "      <td>10596.0</td>\n",
       "      <td>-26</td>\n",
       "      <td>strong sell</td>\n",
       "      <td>-26</td>\n",
       "      <td>short hold</td>\n",
       "    </tr>\n",
       "    <tr>\n",
       "      <th>1</th>\n",
       "      <td>SP99</td>\n",
       "      <td>CZCE</td>\n",
       "      <td>2018-11-27 09:01:00</td>\n",
       "      <td>5697.0277</td>\n",
       "      <td>5754.2022</td>\n",
       "      <td>5696.4447</td>\n",
       "      <td>5742.6281</td>\n",
       "      <td>8978.0</td>\n",
       "      <td>514391440.0</td>\n",
       "      <td>13016.0</td>\n",
       "      <td>-69</td>\n",
       "      <td>strong sell</td>\n",
       "      <td>-95</td>\n",
       "      <td>short hold</td>\n",
       "    </tr>\n",
       "    <tr>\n",
       "      <th>2</th>\n",
       "      <td>SP99</td>\n",
       "      <td>CZCE</td>\n",
       "      <td>2018-11-27 09:02:00</td>\n",
       "      <td>5746.4867</td>\n",
       "      <td>5760.8503</td>\n",
       "      <td>5732.6167</td>\n",
       "      <td>5746.8887</td>\n",
       "      <td>4580.0</td>\n",
       "      <td>263216960.0</td>\n",
       "      <td>14866.0</td>\n",
       "      <td>-40</td>\n",
       "      <td>strong sell</td>\n",
       "      <td>-135</td>\n",
       "      <td>short hold</td>\n",
       "    </tr>\n",
       "    <tr>\n",
       "      <th>3</th>\n",
       "      <td>SP99</td>\n",
       "      <td>CZCE</td>\n",
       "      <td>2018-11-27 09:03:00</td>\n",
       "      <td>5746.9423</td>\n",
       "      <td>5747.1822</td>\n",
       "      <td>5713.7041</td>\n",
       "      <td>5725.7890</td>\n",
       "      <td>4988.0</td>\n",
       "      <td>285784600.0</td>\n",
       "      <td>17154.0</td>\n",
       "      <td>-14</td>\n",
       "      <td>strong sell</td>\n",
       "      <td>-149</td>\n",
       "      <td>short hold</td>\n",
       "    </tr>\n",
       "    <tr>\n",
       "      <th>4</th>\n",
       "      <td>SP99</td>\n",
       "      <td>CZCE</td>\n",
       "      <td>2018-11-27 09:04:00</td>\n",
       "      <td>5724.1655</td>\n",
       "      <td>5738.4124</td>\n",
       "      <td>5724.0000</td>\n",
       "      <td>5728.3961</td>\n",
       "      <td>2674.0</td>\n",
       "      <td>153329120.0</td>\n",
       "      <td>18198.0</td>\n",
       "      <td>-34</td>\n",
       "      <td>strong sell</td>\n",
       "      <td>-183</td>\n",
       "      <td>short hold</td>\n",
       "    </tr>\n",
       "    <tr>\n",
       "      <th>...</th>\n",
       "      <td>...</td>\n",
       "      <td>...</td>\n",
       "      <td>...</td>\n",
       "      <td>...</td>\n",
       "      <td>...</td>\n",
       "      <td>...</td>\n",
       "      <td>...</td>\n",
       "      <td>...</td>\n",
       "      <td>...</td>\n",
       "      <td>...</td>\n",
       "      <td>...</td>\n",
       "      <td>...</td>\n",
       "      <td>...</td>\n",
       "      <td>...</td>\n",
       "    </tr>\n",
       "    <tr>\n",
       "      <th>379700</th>\n",
       "      <td>SP99</td>\n",
       "      <td>CZCE</td>\n",
       "      <td>2023-07-27 22:35:00</td>\n",
       "      <td>5549.9415</td>\n",
       "      <td>5550.7637</td>\n",
       "      <td>5545.8236</td>\n",
       "      <td>5546.7077</td>\n",
       "      <td>871.0</td>\n",
       "      <td>48355760.0</td>\n",
       "      <td>651084.0</td>\n",
       "      <td>-5</td>\n",
       "      <td>strong sell</td>\n",
       "      <td>7</td>\n",
       "      <td>long hold</td>\n",
       "    </tr>\n",
       "    <tr>\n",
       "      <th>379701</th>\n",
       "      <td>SP99</td>\n",
       "      <td>CZCE</td>\n",
       "      <td>2023-07-27 22:36:00</td>\n",
       "      <td>5544.8125</td>\n",
       "      <td>5548.3832</td>\n",
       "      <td>5544.4521</td>\n",
       "      <td>5547.7497</td>\n",
       "      <td>1939.0</td>\n",
       "      <td>107518880.0</td>\n",
       "      <td>651236.0</td>\n",
       "      <td>-5</td>\n",
       "      <td>strong sell</td>\n",
       "      <td>4</td>\n",
       "      <td>long hold</td>\n",
       "    </tr>\n",
       "    <tr>\n",
       "      <th>379702</th>\n",
       "      <td>SP99</td>\n",
       "      <td>CZCE</td>\n",
       "      <td>2023-07-27 22:37:00</td>\n",
       "      <td>5547.7295</td>\n",
       "      <td>5547.8147</td>\n",
       "      <td>5542.5801</td>\n",
       "      <td>5544.6184</td>\n",
       "      <td>2315.0</td>\n",
       "      <td>128716520.0</td>\n",
       "      <td>651141.0</td>\n",
       "      <td>0</td>\n",
       "      <td>meh</td>\n",
       "      <td>4</td>\n",
       "      <td>long hold</td>\n",
       "    </tr>\n",
       "    <tr>\n",
       "      <th>379703</th>\n",
       "      <td>SP99</td>\n",
       "      <td>CZCE</td>\n",
       "      <td>2023-07-27 22:38:00</td>\n",
       "      <td>5544.4366</td>\n",
       "      <td>5547.2186</td>\n",
       "      <td>5543.4924</td>\n",
       "      <td>5546.0064</td>\n",
       "      <td>1456.0</td>\n",
       "      <td>80984720.0</td>\n",
       "      <td>650863.0</td>\n",
       "      <td>-1</td>\n",
       "      <td>sell</td>\n",
       "      <td>1</td>\n",
       "      <td>long hold</td>\n",
       "    </tr>\n",
       "    <tr>\n",
       "      <th>379704</th>\n",
       "      <td>SP99</td>\n",
       "      <td>CZCE</td>\n",
       "      <td>2023-07-27 22:39:00</td>\n",
       "      <td>5546.8121</td>\n",
       "      <td>5551.2054</td>\n",
       "      <td>5545.9005</td>\n",
       "      <td>5550.8566</td>\n",
       "      <td>1239.0</td>\n",
       "      <td>68764480.0</td>\n",
       "      <td>650839.0</td>\n",
       "      <td>-6</td>\n",
       "      <td>strong sell</td>\n",
       "      <td>-13</td>\n",
       "      <td>short hold</td>\n",
       "    </tr>\n",
       "  </tbody>\n",
       "</table>\n",
       "<p>379705 rows × 14 columns</p>\n",
       "</div>"
      ],
      "text/plain": [
       "       symbol exchange             datetime       open       high        low  \\\n",
       "0        SP99     CZCE  2018-11-27 09:00:00  5830.9811  5833.1616  5663.3209   \n",
       "1        SP99     CZCE  2018-11-27 09:01:00  5697.0277  5754.2022  5696.4447   \n",
       "2        SP99     CZCE  2018-11-27 09:02:00  5746.4867  5760.8503  5732.6167   \n",
       "3        SP99     CZCE  2018-11-27 09:03:00  5746.9423  5747.1822  5713.7041   \n",
       "4        SP99     CZCE  2018-11-27 09:04:00  5724.1655  5738.4124  5724.0000   \n",
       "...       ...      ...                  ...        ...        ...        ...   \n",
       "379700   SP99     CZCE  2023-07-27 22:35:00  5549.9415  5550.7637  5545.8236   \n",
       "379701   SP99     CZCE  2023-07-27 22:36:00  5544.8125  5548.3832  5544.4521   \n",
       "379702   SP99     CZCE  2023-07-27 22:37:00  5547.7295  5547.8147  5542.5801   \n",
       "379703   SP99     CZCE  2023-07-27 22:38:00  5544.4366  5547.2186  5543.4924   \n",
       "379704   SP99     CZCE  2023-07-27 22:39:00  5546.8121  5551.2054  5545.9005   \n",
       "\n",
       "            close   volume     turnover  open_interest  desired_pos_change  \\\n",
       "0       5689.4757  16068.0  926916280.0        10596.0                 -26   \n",
       "1       5742.6281   8978.0  514391440.0        13016.0                 -69   \n",
       "2       5746.8887   4580.0  263216960.0        14866.0                 -40   \n",
       "3       5725.7890   4988.0  285784600.0        17154.0                 -14   \n",
       "4       5728.3961   2674.0  153329120.0        18198.0                 -34   \n",
       "...           ...      ...          ...            ...                 ...   \n",
       "379700  5546.7077    871.0   48355760.0       651084.0                  -5   \n",
       "379701  5547.7497   1939.0  107518880.0       651236.0                  -5   \n",
       "379702  5544.6184   2315.0  128716520.0       651141.0                   0   \n",
       "379703  5546.0064   1456.0   80984720.0       650863.0                  -1   \n",
       "379704  5550.8566   1239.0   68764480.0       650839.0                  -6   \n",
       "\n",
       "       pos_change_signal  desired_pos_rolling net_pos_signal  \n",
       "0            strong sell                  -26     short hold  \n",
       "1            strong sell                  -95     short hold  \n",
       "2            strong sell                 -135     short hold  \n",
       "3            strong sell                 -149     short hold  \n",
       "4            strong sell                 -183     short hold  \n",
       "...                  ...                  ...            ...  \n",
       "379700       strong sell                    7      long hold  \n",
       "379701       strong sell                    4      long hold  \n",
       "379702               meh                    4      long hold  \n",
       "379703              sell                    1      long hold  \n",
       "379704       strong sell                  -13     short hold  \n",
       "\n",
       "[379705 rows x 14 columns]"
      ]
     },
     "execution_count": 6,
     "metadata": {},
     "output_type": "execute_result"
    }
   ],
   "source": [
    "df"
   ]
  },
  {
   "cell_type": "code",
   "execution_count": 19,
   "metadata": {},
   "outputs": [
    {
     "data": {
      "text/plain": [
       "<AxesSubplot:>"
      ]
     },
     "execution_count": 19,
     "metadata": {},
     "output_type": "execute_result"
    },
    {
     "data": {
      "image/png": "[encoded data removed]",
      "text/plain": [
       "<Figure size 640x480 with 1 Axes>"
      ]
     },
     "metadata": {},
     "output_type": "display_data"
    }
   ],
   "source": [
    "df[['pos_change_signal', 'net_pos_signal']].value_counts().plot(kind='pie')"
   ]
  },
  {
   "cell_type": "code",
   "execution_count": 23,
   "metadata": {},
   "outputs": [],
   "source": [
    "df['daily_pnl'] = df['desired_pos_rolling'] * (df['close'] - df['open'])"
   ]
  },
  {
   "cell_type": "code",
   "execution_count": 24,
   "metadata": {},
   "outputs": [
    {
     "data": {
      "text/plain": [
       "<AxesSubplot:>"
      ]
     },
     "execution_count": 24,
     "metadata": {},
     "output_type": "execute_result"
    },
    {
     "data": {
      "image/png": "[encoded data removed]",
      "text/plain": [
       "<Figure size 640x480 with 1 Axes>"
      ]
     },
     "metadata": {},
     "output_type": "display_data"
    }
   ],
   "source": [
    "df.daily_pnl.cumsum().plot()"
   ]
  },
  {
   "cell_type": "code",
   "execution_count": 17,
   "metadata": {},
   "outputs": [],
   "source": [
    "output = ta_map[\"SMA\"](inputs)"
   ]
  },
  {
   "cell_type": "code",
   "execution_count": 18,
   "metadata": {},
   "outputs": [
    {
     "data": {
      "text/plain": [
       "array([       nan,        nan,        nan,        nan,        nan,\n",
       "              nan,        nan,        nan,        nan,        nan,\n",
       "              nan,        nan,        nan,        nan,        nan,\n",
       "              nan,        nan,        nan,        nan,        nan,\n",
       "              nan,        nan,        nan,        nan,        nan,\n",
       "              nan,        nan,        nan,        nan, 0.56379035,\n",
       "       0.56592234, 0.56354196, 0.56357981, 0.5759606 , 0.57891895,\n",
       "       0.60568122, 0.6011442 , 0.58969133, 0.59014174, 0.57350315,\n",
       "       0.57023573, 0.57325048, 0.59691296, 0.59028906, 0.58817202,\n",
       "       0.6001237 , 0.62128806, 0.63327843, 0.64249598, 0.63900216,\n",
       "       0.60932516, 0.61402808, 0.62876631, 0.62519055, 0.60609979,\n",
       "       0.5998485 , 0.59959993, 0.6154019 , 0.59837884, 0.57913937,\n",
       "       0.57113615, 0.57756787, 0.57938978, 0.56931161, 0.54834979,\n",
       "       0.52476594, 0.51764841, 0.5154344 , 0.50179562, 0.5002672 ,\n",
       "       0.50768852, 0.51649726, 0.49683872, 0.51526277, 0.5169083 ,\n",
       "       0.51267145, 0.48763329, 0.48758422, 0.48207329, 0.46071142,\n",
       "       0.47642088, 0.45091657, 0.45824141, 0.46759019, 0.47318078,\n",
       "       0.46716633, 0.44599631, 0.43395166, 0.4543372 , 0.47010874,\n",
       "       0.48247447, 0.46838645, 0.45366125, 0.45229672, 0.4661567 ,\n",
       "       0.46049387, 0.46749872, 0.47477246, 0.49049222, 0.5022235 ])"
      ]
     },
     "execution_count": 18,
     "metadata": {},
     "output_type": "execute_result"
    }
   ],
   "source": [
    "output"
   ]
  },
  {
   "cell_type": "code",
   "execution_count": 5,
   "metadata": {},
   "outputs": [
    {
     "ename": "AttributeError",
     "evalue": "'function' object has no attribute 'parameters'",
     "output_type": "error",
     "traceback": [
      "\u001b[1;31m---------------------------------------------------------------------------\u001b[0m",
      "\u001b[1;31mAttributeError\u001b[0m                            Traceback (most recent call last)",
      "Cell \u001b[1;32mIn[5], line 1\u001b[0m\n\u001b[1;32m----> 1\u001b[0m ta\u001b[39m.\u001b[39;49mRSI\u001b[39m.\u001b[39;49mparameters\n",
      "\u001b[1;31mAttributeError\u001b[0m: 'function' object has no attribute 'parameters'"
     ]
    }
   ],
   "source": [
    "ta.RSI.parameters"
   ]
  },
  {
   "cell_type": "code",
   "execution_count": 6,
   "metadata": {},
   "outputs": [
    {
     "data": {
      "text/plain": [
       "OrderedDict([('timeperiod', 30)])"
      ]
     },
     "execution_count": 6,
     "metadata": {},
     "output_type": "execute_result"
    }
   ],
   "source": [
    "from talib import abstract\n",
    "\n",
    "abstract.SMA.parameters"
   ]
  },
  {
   "cell_type": "code",
   "execution_count": 2,
   "metadata": {},
   "outputs": [],
   "source": [
    "df = pd.read_csv(\"data.csv\")"
   ]
  },
  {
   "cell_type": "code",
   "execution_count": 3,
   "metadata": {},
   "outputs": [],
   "source": [
    "generate_time_features(df)"
   ]
  },
  {
   "cell_type": "code",
   "execution_count": 5,
   "metadata": {},
   "outputs": [
    {
     "data": {
      "text/plain": [
       "0        2018-11-27 09:00:00\n",
       "1        2018-11-27 09:01:00\n",
       "2        2018-11-27 09:02:00\n",
       "3        2018-11-27 09:03:00\n",
       "4        2018-11-27 09:04:00\n",
       "                 ...        \n",
       "379720   2023-07-27 22:55:00\n",
       "379721   2023-07-27 22:56:00\n",
       "379722   2023-07-27 22:57:00\n",
       "379723   2023-07-27 22:58:00\n",
       "379724   2023-07-27 22:59:00\n",
       "Name: datetime, Length: 379725, dtype: datetime64[ns]"
      ]
     },
     "execution_count": 5,
     "metadata": {},
     "output_type": "execute_result"
    }
   ],
   "source": [
    "df.datetime"
   ]
  },
  {
   "cell_type": "code",
   "execution_count": 5,
   "metadata": {},
   "outputs": [],
   "source": [
    "with open(\"feature_names.txt\", \"r\") as f:\n",
    "    features = f.read()"
   ]
  },
  {
   "cell_type": "code",
   "execution_count": 2,
   "metadata": {},
   "outputs": [],
   "source": [
    "import re"
   ]
  },
  {
   "cell_type": "markdown",
   "metadata": {},
   "source": [
    "# Save this for production use!"
   ]
  },
  {
   "cell_type": "code",
   "execution_count": 11,
   "metadata": {},
   "outputs": [],
   "source": [
    "with open(\"feature_names.txt\", \"r\") as f:\n",
    "    features = f.read()\n",
    "feats = re.findall(r\"(\\w+\\D)(\\d+\\b)\", features)\n",
    "func_pool = []"
   ]
  },
  {
   "cell_type": "code",
   "execution_count": 12,
   "metadata": {},
   "outputs": [],
   "source": [
    "for func in feats:\n",
    "    if func[0] == \"MACDHIST\" or func[0] == \"MACDSIGNAL\":\n",
    "        continue\n",
    "    if func[0] == \"MACDSIGNALFIX\" or func[0] == \"MACDHISTFIX\":\n",
    "        continue\n",
    "    if func[0] == \"STOCHRSI_k\" or func[0] == \"STOCHRSI_d\":\n",
    "        continue\n",
    "    if func[0] == \"HT_PHASORinphase\" or func[0] == \"HT_PHASORquadrature\":\n",
    "        func[0] = \"HT_PHASOR\"\n",
    "    if func[0] == \"HT_SINEsine\" or func[0] == \"HT_SINEleadsine\":\n",
    "        func[0] = \"HT_SINE\"\n",
    "    function = getattr(ta, func[0])\n",
    "    func_pool.append((function, int(func[1])))"
   ]
  },
  {
   "cell_type": "code",
   "execution_count": 25,
   "metadata": {},
   "outputs": [
    {
     "ename": "ValueError",
     "evalue": "no signature found for builtin <built-in function ADOSC>",
     "output_type": "error",
     "traceback": [
      "\u001b[1;31m---------------------------------------------------------------------------\u001b[0m",
      "\u001b[1;31mValueError\u001b[0m                                Traceback (most recent call last)",
      "Cell \u001b[1;32mIn[25], line 1\u001b[0m\n\u001b[1;32m----> 1\u001b[0m inspect\u001b[39m.\u001b[39;49msignature(func_pool[\u001b[39m0\u001b[39;49m][\u001b[39m0\u001b[39;49m])\n",
      "File \u001b[1;32md:\\veighna_elite\\lib\\inspect.py:3253\u001b[0m, in \u001b[0;36msignature\u001b[1;34m(obj, follow_wrapped, globals, locals, eval_str)\u001b[0m\n\u001b[0;32m   3251\u001b[0m \u001b[39mdef\u001b[39;00m \u001b[39msignature\u001b[39m(obj, \u001b[39m*\u001b[39m, follow_wrapped\u001b[39m=\u001b[39m\u001b[39mTrue\u001b[39;00m, \u001b[39mglobals\u001b[39m\u001b[39m=\u001b[39m\u001b[39mNone\u001b[39;00m, \u001b[39mlocals\u001b[39m\u001b[39m=\u001b[39m\u001b[39mNone\u001b[39;00m, eval_str\u001b[39m=\u001b[39m\u001b[39mFalse\u001b[39;00m):\n\u001b[0;32m   3252\u001b[0m \u001b[39m    \u001b[39m\u001b[39m\"\"\"Get a signature object for the passed callable.\"\"\"\u001b[39;00m\n\u001b[1;32m-> 3253\u001b[0m     \u001b[39mreturn\u001b[39;00m Signature\u001b[39m.\u001b[39;49mfrom_callable(obj, follow_wrapped\u001b[39m=\u001b[39;49mfollow_wrapped,\n\u001b[0;32m   3254\u001b[0m                                    \u001b[39mglobals\u001b[39;49m\u001b[39m=\u001b[39;49m\u001b[39mglobals\u001b[39;49m, \u001b[39mlocals\u001b[39;49m\u001b[39m=\u001b[39;49m\u001b[39mlocals\u001b[39;49m, eval_str\u001b[39m=\u001b[39;49meval_str)\n",
      "File \u001b[1;32md:\\veighna_elite\\lib\\inspect.py:3001\u001b[0m, in \u001b[0;36mSignature.from_callable\u001b[1;34m(cls, obj, follow_wrapped, globals, locals, eval_str)\u001b[0m\n\u001b[0;32m   2997\u001b[0m \u001b[39m@classmethod\u001b[39m\n\u001b[0;32m   2998\u001b[0m \u001b[39mdef\u001b[39;00m \u001b[39mfrom_callable\u001b[39m(\u001b[39mcls\u001b[39m, obj, \u001b[39m*\u001b[39m,\n\u001b[0;32m   2999\u001b[0m                   follow_wrapped\u001b[39m=\u001b[39m\u001b[39mTrue\u001b[39;00m, \u001b[39mglobals\u001b[39m\u001b[39m=\u001b[39m\u001b[39mNone\u001b[39;00m, \u001b[39mlocals\u001b[39m\u001b[39m=\u001b[39m\u001b[39mNone\u001b[39;00m, eval_str\u001b[39m=\u001b[39m\u001b[39mFalse\u001b[39;00m):\n\u001b[0;32m   3000\u001b[0m \u001b[39m    \u001b[39m\u001b[39m\"\"\"Constructs Signature for the given callable object.\"\"\"\u001b[39;00m\n\u001b[1;32m-> 3001\u001b[0m     \u001b[39mreturn\u001b[39;00m _signature_from_callable(obj, sigcls\u001b[39m=\u001b[39;49m\u001b[39mcls\u001b[39;49m,\n\u001b[0;32m   3002\u001b[0m                                     follow_wrapper_chains\u001b[39m=\u001b[39;49mfollow_wrapped,\n\u001b[0;32m   3003\u001b[0m                                     \u001b[39mglobals\u001b[39;49m\u001b[39m=\u001b[39;49m\u001b[39mglobals\u001b[39;49m, \u001b[39mlocals\u001b[39;49m\u001b[39m=\u001b[39;49m\u001b[39mlocals\u001b[39;49m, eval_str\u001b[39m=\u001b[39;49meval_str)\n",
      "File \u001b[1;32md:\\veighna_elite\\lib\\inspect.py:2467\u001b[0m, in \u001b[0;36m_signature_from_callable\u001b[1;34m(obj, follow_wrapper_chains, skip_bound_arg, globals, locals, eval_str, sigcls)\u001b[0m\n\u001b[0;32m   2462\u001b[0m     \u001b[39mreturn\u001b[39;00m _signature_from_function(sigcls, obj,\n\u001b[0;32m   2463\u001b[0m                                     skip_bound_arg\u001b[39m=\u001b[39mskip_bound_arg,\n\u001b[0;32m   2464\u001b[0m                                     \u001b[39mglobals\u001b[39m\u001b[39m=\u001b[39m\u001b[39mglobals\u001b[39m, \u001b[39mlocals\u001b[39m\u001b[39m=\u001b[39m\u001b[39mlocals\u001b[39m, eval_str\u001b[39m=\u001b[39meval_str)\n\u001b[0;32m   2466\u001b[0m \u001b[39mif\u001b[39;00m _signature_is_builtin(obj):\n\u001b[1;32m-> 2467\u001b[0m     \u001b[39mreturn\u001b[39;00m _signature_from_builtin(sigcls, obj,\n\u001b[0;32m   2468\u001b[0m                                    skip_bound_arg\u001b[39m=\u001b[39;49mskip_bound_arg)\n\u001b[0;32m   2470\u001b[0m \u001b[39mif\u001b[39;00m \u001b[39misinstance\u001b[39m(obj, functools\u001b[39m.\u001b[39mpartial):\n\u001b[0;32m   2471\u001b[0m     wrapped_sig \u001b[39m=\u001b[39m _get_signature_of(obj\u001b[39m.\u001b[39mfunc)\n",
      "File \u001b[1;32md:\\veighna_elite\\lib\\inspect.py:2274\u001b[0m, in \u001b[0;36m_signature_from_builtin\u001b[1;34m(cls, func, skip_bound_arg)\u001b[0m\n\u001b[0;32m   2272\u001b[0m s \u001b[39m=\u001b[39m \u001b[39mgetattr\u001b[39m(func, \u001b[39m\"\u001b[39m\u001b[39m__text_signature__\u001b[39m\u001b[39m\"\u001b[39m, \u001b[39mNone\u001b[39;00m)\n\u001b[0;32m   2273\u001b[0m \u001b[39mif\u001b[39;00m \u001b[39mnot\u001b[39;00m s:\n\u001b[1;32m-> 2274\u001b[0m     \u001b[39mraise\u001b[39;00m \u001b[39mValueError\u001b[39;00m(\u001b[39m\"\u001b[39m\u001b[39mno signature found for builtin \u001b[39m\u001b[39m{!r}\u001b[39;00m\u001b[39m\"\u001b[39m\u001b[39m.\u001b[39mformat(func))\n\u001b[0;32m   2276\u001b[0m \u001b[39mreturn\u001b[39;00m _signature_fromstr(\u001b[39mcls\u001b[39m, func, s, skip_bound_arg)\n",
      "\u001b[1;31mValueError\u001b[0m: no signature found for builtin <built-in function ADOSC>"
     ]
    }
   ],
   "source": [
    "inspect.signature(func_pool[0][0])"
   ]
  },
  {
   "cell_type": "code",
   "execution_count": 15,
   "metadata": {},
   "outputs": [],
   "source": [
    "import inspect"
   ]
  },
  {
   "cell_type": "code",
   "execution_count": 17,
   "metadata": {},
   "outputs": [
    {
     "ename": "ValueError",
     "evalue": "no signature found for builtin <built-in function ADOSC>",
     "output_type": "error",
     "traceback": [
      "\u001b[1;31m---------------------------------------------------------------------------\u001b[0m",
      "\u001b[1;31mValueError\u001b[0m                                Traceback (most recent call last)",
      "Cell \u001b[1;32mIn[17], line 2\u001b[0m\n\u001b[0;32m      1\u001b[0m \u001b[39mfor\u001b[39;00m func, lag \u001b[39min\u001b[39;00m func_pool:\n\u001b[1;32m----> 2\u001b[0m     parameters \u001b[39m=\u001b[39m inspect\u001b[39m.\u001b[39;49msignature(func)\u001b[39m.\u001b[39mparameters\n\u001b[0;32m      3\u001b[0m     \u001b[39mprint\u001b[39m(func, parameters)\n",
      "File \u001b[1;32md:\\veighna_elite\\lib\\inspect.py:3253\u001b[0m, in \u001b[0;36msignature\u001b[1;34m(obj, follow_wrapped, globals, locals, eval_str)\u001b[0m\n\u001b[0;32m   3251\u001b[0m \u001b[39mdef\u001b[39;00m \u001b[39msignature\u001b[39m(obj, \u001b[39m*\u001b[39m, follow_wrapped\u001b[39m=\u001b[39m\u001b[39mTrue\u001b[39;00m, \u001b[39mglobals\u001b[39m\u001b[39m=\u001b[39m\u001b[39mNone\u001b[39;00m, \u001b[39mlocals\u001b[39m\u001b[39m=\u001b[39m\u001b[39mNone\u001b[39;00m, eval_str\u001b[39m=\u001b[39m\u001b[39mFalse\u001b[39;00m):\n\u001b[0;32m   3252\u001b[0m \u001b[39m    \u001b[39m\u001b[39m\"\"\"Get a signature object for the passed callable.\"\"\"\u001b[39;00m\n\u001b[1;32m-> 3253\u001b[0m     \u001b[39mreturn\u001b[39;00m Signature\u001b[39m.\u001b[39;49mfrom_callable(obj, follow_wrapped\u001b[39m=\u001b[39;49mfollow_wrapped,\n\u001b[0;32m   3254\u001b[0m                                    \u001b[39mglobals\u001b[39;49m\u001b[39m=\u001b[39;49m\u001b[39mglobals\u001b[39;49m, \u001b[39mlocals\u001b[39;49m\u001b[39m=\u001b[39;49m\u001b[39mlocals\u001b[39;49m, eval_str\u001b[39m=\u001b[39;49meval_str)\n",
      "File \u001b[1;32md:\\veighna_elite\\lib\\inspect.py:3001\u001b[0m, in \u001b[0;36mSignature.from_callable\u001b[1;34m(cls, obj, follow_wrapped, globals, locals, eval_str)\u001b[0m\n\u001b[0;32m   2997\u001b[0m \u001b[39m@classmethod\u001b[39m\n\u001b[0;32m   2998\u001b[0m \u001b[39mdef\u001b[39;00m \u001b[39mfrom_callable\u001b[39m(\u001b[39mcls\u001b[39m, obj, \u001b[39m*\u001b[39m,\n\u001b[0;32m   2999\u001b[0m                   follow_wrapped\u001b[39m=\u001b[39m\u001b[39mTrue\u001b[39;00m, \u001b[39mglobals\u001b[39m\u001b[39m=\u001b[39m\u001b[39mNone\u001b[39;00m, \u001b[39mlocals\u001b[39m\u001b[39m=\u001b[39m\u001b[39mNone\u001b[39;00m, eval_str\u001b[39m=\u001b[39m\u001b[39mFalse\u001b[39;00m):\n\u001b[0;32m   3000\u001b[0m \u001b[39m    \u001b[39m\u001b[39m\"\"\"Constructs Signature for the given callable object.\"\"\"\u001b[39;00m\n\u001b[1;32m-> 3001\u001b[0m     \u001b[39mreturn\u001b[39;00m _signature_from_callable(obj, sigcls\u001b[39m=\u001b[39;49m\u001b[39mcls\u001b[39;49m,\n\u001b[0;32m   3002\u001b[0m                                     follow_wrapper_chains\u001b[39m=\u001b[39;49mfollow_wrapped,\n\u001b[0;32m   3003\u001b[0m                                     \u001b[39mglobals\u001b[39;49m\u001b[39m=\u001b[39;49m\u001b[39mglobals\u001b[39;49m, \u001b[39mlocals\u001b[39;49m\u001b[39m=\u001b[39;49m\u001b[39mlocals\u001b[39;49m, eval_str\u001b[39m=\u001b[39;49meval_str)\n",
      "File \u001b[1;32md:\\veighna_elite\\lib\\inspect.py:2467\u001b[0m, in \u001b[0;36m_signature_from_callable\u001b[1;34m(obj, follow_wrapper_chains, skip_bound_arg, globals, locals, eval_str, sigcls)\u001b[0m\n\u001b[0;32m   2462\u001b[0m     \u001b[39mreturn\u001b[39;00m _signature_from_function(sigcls, obj,\n\u001b[0;32m   2463\u001b[0m                                     skip_bound_arg\u001b[39m=\u001b[39mskip_bound_arg,\n\u001b[0;32m   2464\u001b[0m                                     \u001b[39mglobals\u001b[39m\u001b[39m=\u001b[39m\u001b[39mglobals\u001b[39m, \u001b[39mlocals\u001b[39m\u001b[39m=\u001b[39m\u001b[39mlocals\u001b[39m, eval_str\u001b[39m=\u001b[39meval_str)\n\u001b[0;32m   2466\u001b[0m \u001b[39mif\u001b[39;00m _signature_is_builtin(obj):\n\u001b[1;32m-> 2467\u001b[0m     \u001b[39mreturn\u001b[39;00m _signature_from_builtin(sigcls, obj,\n\u001b[0;32m   2468\u001b[0m                                    skip_bound_arg\u001b[39m=\u001b[39;49mskip_bound_arg)\n\u001b[0;32m   2470\u001b[0m \u001b[39mif\u001b[39;00m \u001b[39misinstance\u001b[39m(obj, functools\u001b[39m.\u001b[39mpartial):\n\u001b[0;32m   2471\u001b[0m     wrapped_sig \u001b[39m=\u001b[39m _get_signature_of(obj\u001b[39m.\u001b[39mfunc)\n",
      "File \u001b[1;32md:\\veighna_elite\\lib\\inspect.py:2274\u001b[0m, in \u001b[0;36m_signature_from_builtin\u001b[1;34m(cls, func, skip_bound_arg)\u001b[0m\n\u001b[0;32m   2272\u001b[0m s \u001b[39m=\u001b[39m \u001b[39mgetattr\u001b[39m(func, \u001b[39m\"\u001b[39m\u001b[39m__text_signature__\u001b[39m\u001b[39m\"\u001b[39m, \u001b[39mNone\u001b[39;00m)\n\u001b[0;32m   2273\u001b[0m \u001b[39mif\u001b[39;00m \u001b[39mnot\u001b[39;00m s:\n\u001b[1;32m-> 2274\u001b[0m     \u001b[39mraise\u001b[39;00m \u001b[39mValueError\u001b[39;00m(\u001b[39m\"\u001b[39m\u001b[39mno signature found for builtin \u001b[39m\u001b[39m{!r}\u001b[39;00m\u001b[39m\"\u001b[39m\u001b[39m.\u001b[39mformat(func))\n\u001b[0;32m   2276\u001b[0m \u001b[39mreturn\u001b[39;00m _signature_fromstr(\u001b[39mcls\u001b[39m, func, s, skip_bound_arg)\n",
      "\u001b[1;31mValueError\u001b[0m: no signature found for builtin <built-in function ADOSC>"
     ]
    }
   ],
   "source": [
    "for func, lag in func_pool:\n",
    "    parameters = inspect.signature(func).parameters"
   ]
  },
  {
   "cell_type": "code",
   "execution_count": 5,
   "metadata": {},
   "outputs": [],
   "source": [
    "import talib as ta"
   ]
  },
  {
   "cell_type": "code",
   "execution_count": 8,
   "metadata": {},
   "outputs": [
    {
     "data": {
      "text/plain": [
       "<function talib._ta_lib.ADOSC>"
      ]
     },
     "execution_count": 8,
     "metadata": {},
     "output_type": "execute_result"
    }
   ],
   "source": [
    "getattr(ta, feats[0][0])"
   ]
  }
 ],
 "metadata": {
  "kernelspec": {
   "display_name": "Python 3",
   "language": "python",
   "name": "python3"
  },
  "language_info": {
   "codemirror_mode": {
    "name": "ipython",
    "version": 3
   },
   "file_extension": ".py",
   "mimetype": "text/x-python",
   "name": "python",
   "nbconvert_exporter": "python",
   "pygments_lexer": "ipython3",
   "version": "3.10.9"
  },
  "orig_nbformat": 4
 },
 "nbformat": 4,
 "nbformat_minor": 2
}
