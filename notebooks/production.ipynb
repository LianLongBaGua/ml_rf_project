{
 "cells": [
  {
   "cell_type": "code",
   "execution_count": 3,
   "metadata": {},
   "outputs": [],
   "source": [
    "import pandas as pd\n",
    "import numpy as np\n",
    "from ml_rf_project.src.talib_map import ta_map, func_map\n",
    "import re\n",
    "from functools import partial\n",
    "from ml_rf_project.src.features_extraction import *"
   ]
  },
  {
   "cell_type": "code",
   "execution_count": 9,
   "metadata": {},
   "outputs": [],
   "source": [
    "df = pd.read_csv(\"../data/data.csv\")"
   ]
  },
  {
   "cell_type": "code",
   "execution_count": 39,
   "metadata": {},
   "outputs": [],
   "source": [
    "with open(\"../src/feature_names.txt\", \"r\") as f:\n",
    "    features = f.read()\n",
    "features = features.split(\" \")"
   ]
  },
  {
   "cell_type": "code",
   "execution_count": 4,
   "metadata": {},
   "outputs": [],
   "source": [
    "def get_funcs():\n",
    "    with open(\"../src/feature_names.txt\", \"r\") as f:\n",
    "        features = f.read()\n",
    "    interval_feats = re.findall(r\"(\\d+)_(\\w+)_(\\d+)\", features)\n",
    "    pattern_feats = re.findall(r\"(\\d+)_(CDL\\w+)\", features)\n",
    "    time_feats = re.findall((r\"(\\d+)_(ti\\w+)\"), features)\n",
    "    ht_feats = re.findall(r\"(\\d+)_(HT_\\w+)\", features)\n",
    "\n",
    "    # create a list of length n with empty placeholders\n",
    "    func_pool = [None] * len(interval_feats + pattern_feats + ht_feats + time_feats)\n",
    "    print(len(func_pool))\n",
    "\n",
    "    for func in interval_feats:\n",
    "        if func[1] == \"MACDHIST\" or func[1] == \"MACDSIGNAL\":\n",
    "            function = partial(\n",
    "                ta_map[\"MACD\"],\n",
    "                fastperiod=int(func[2]),\n",
    "                slowperiod=int(int(func[2]) * 2),\n",
    "                signalperiod=int(int(func[2]) / 2),\n",
    "            )\n",
    "        elif func[1] == \"MACDSIGNALFIX\" or func[1] == \"MACDHISTFIX\":\n",
    "            function = partial(ta_map[\"MACDFIX\"], signalperiod=int(func[2]))\n",
    "        elif \"timeperiod\" in function.parameters:\n",
    "            function = partial(function, timeperiod=int(func[2]))\n",
    "        elif \"fastperiod\" in function.parameters:\n",
    "            function = partial(\n",
    "                function, fastperiod=int(func[2]), slowperiod=int(int(func[2])) * 3\n",
    "            )\n",
    "        elif func[1] == \"STOCH\":\n",
    "            function = partial(\n",
    "                function,\n",
    "                fastk_period=int(func[2]),\n",
    "                slowk_period=int(int(func[2]) / 2),\n",
    "                slowd_period=int(int(func[2]) / 2),\n",
    "            )\n",
    "        elif func[1] == \"STOCHF\":\n",
    "            function = partial(\n",
    "                function, fastk_period=int(func[2]), fastd_period=int(int(func[2]) / 2)\n",
    "            )\n",
    "\n",
    "        func_pool[int(func[0])] = function\n",
    "\n",
    "    for func in pattern_feats:\n",
    "        function = ta_map[func[1]]\n",
    "        func_pool[int(func[0])] = function\n",
    "\n",
    "    for func in ht_feats:\n",
    "        if func[1] == \"HT_PHASORinphase\" or func[1] == \"HT_PHASORquadrature\":\n",
    "            function = ta_map[\"HT_PHASOR\"]\n",
    "        elif func[1] == \"HT_SINEsine\" or func[1] == \"HT_SINEleadsine\":\n",
    "            function = ta_map[\"HT_SINE\"]\n",
    "        else:\n",
    "            function = ta_map[func[1]]\n",
    "        func_pool[int(func[0])] = function\n",
    "\n",
    "    for func in time_feats:\n",
    "        function = func_map[func[1]]\n",
    "        func_pool[int(func[0])] = function\n",
    "\n",
    "    return func_pool"
   ]
  },
  {
   "cell_type": "code",
   "execution_count": 5,
   "metadata": {},
   "outputs": [
    {
     "name": "stdout",
     "output_type": "stream",
     "text": [
      "105\n"
     ]
    }
   ],
   "source": [
    "func_pool = get_funcs()"
   ]
  },
  {
   "cell_type": "code",
   "execution_count": 16,
   "metadata": {},
   "outputs": [
    {
     "data": {
      "text/plain": [
       "[functools.partial({'name': 'ADOSC', 'group': 'Volume Indicators', 'display_name': 'Chaikin A/D Oscillator', 'function_flags': None, 'input_names': OrderedDict([('prices', ['high', 'low', 'close', 'volume'])]), 'parameters': OrderedDict([('fastperiod', 3), ('slowperiod', 10)]), 'output_flags': OrderedDict([('real', ['Line'])]), 'output_names': ['real']}, fastperiod=10, slowperiod=30),\n",
       " functools.partial({'name': 'ADXR', 'group': 'Momentum Indicators', 'display_name': 'Average Directional Movement Index Rating', 'function_flags': ['Function has an unstable period'], 'input_names': OrderedDict([('prices', ['high', 'low', 'close'])]), 'parameters': OrderedDict([('timeperiod', 14)]), 'output_flags': OrderedDict([('real', ['Line'])]), 'output_names': ['real']}, timeperiod=10),\n",
       " functools.partial({'name': 'ADX', 'group': 'Momentum Indicators', 'display_name': 'Average Directional Movement Index', 'function_flags': ['Function has an unstable period'], 'input_names': OrderedDict([('prices', ['high', 'low', 'close'])]), 'parameters': OrderedDict([('timeperiod', 14)]), 'output_flags': OrderedDict([('real', ['Line'])]), 'output_names': ['real']}, timeperiod=10),\n",
       " functools.partial({'name': 'APO', 'group': 'Momentum Indicators', 'display_name': 'Absolute Price Oscillator', 'function_flags': None, 'input_names': OrderedDict([('price', 'close')]), 'parameters': OrderedDict([('fastperiod', 12), ('slowperiod', 26), ('matype', 0)]), 'output_flags': OrderedDict([('real', ['Line'])]), 'output_names': ['real']}, fastperiod=10, slowperiod=30),\n",
       " functools.partial({'name': 'AROONOSC', 'group': 'Momentum Indicators', 'display_name': 'Aroon Oscillator', 'function_flags': None, 'input_names': OrderedDict([('prices', ['high', 'low'])]), 'parameters': OrderedDict([('timeperiod', 14)]), 'output_flags': OrderedDict([('real', ['Line'])]), 'output_names': ['real']}, timeperiod=10),\n",
       " functools.partial({'name': 'ATR', 'group': 'Volatility Indicators', 'display_name': 'Average True Range', 'function_flags': ['Function has an unstable period'], 'input_names': OrderedDict([('prices', ['high', 'low', 'close'])]), 'parameters': OrderedDict([('timeperiod', 14)]), 'output_flags': OrderedDict([('real', ['Line'])]), 'output_names': ['real']}, timeperiod=10),\n",
       " functools.partial({'name': 'BETA', 'group': 'Statistic Functions', 'display_name': 'Beta', 'function_flags': None, 'input_names': OrderedDict([('price0', 'high'), ('price1', 'low')]), 'parameters': OrderedDict([('timeperiod', 5)]), 'output_flags': OrderedDict([('real', ['Line'])]), 'output_names': ['real']}, timeperiod=10),\n",
       " functools.partial({'name': 'CCI', 'group': 'Momentum Indicators', 'display_name': 'Commodity Channel Index', 'function_flags': None, 'input_names': OrderedDict([('prices', ['high', 'low', 'close'])]), 'parameters': OrderedDict([('timeperiod', 14)]), 'output_flags': OrderedDict([('real', ['Line'])]), 'output_names': ['real']}, timeperiod=10),\n",
       " {'name': 'CDL2CROWS', 'group': 'Pattern Recognition', 'display_name': 'Two Crows', 'function_flags': ['Output is a candlestick'], 'input_names': OrderedDict([('prices', ['open', 'high', 'low', 'close'])]), 'parameters': OrderedDict(), 'output_flags': OrderedDict([('integer', ['Line'])]), 'output_names': ['integer']},\n",
       " {'name': 'CDL3BLACKCROWS', 'group': 'Pattern Recognition', 'display_name': 'Three Black Crows', 'function_flags': ['Output is a candlestick'], 'input_names': OrderedDict([('prices', ['open', 'high', 'low', 'close'])]), 'parameters': OrderedDict(), 'output_flags': OrderedDict([('integer', ['Line'])]), 'output_names': ['integer']},\n",
       " {'name': 'CDL3INSIDE', 'group': 'Pattern Recognition', 'display_name': 'Three Inside Up/Down', 'function_flags': ['Output is a candlestick'], 'input_names': OrderedDict([('prices', ['open', 'high', 'low', 'close'])]), 'parameters': OrderedDict(), 'output_flags': OrderedDict([('integer', ['Line'])]), 'output_names': ['integer']},\n",
       " {'name': 'CDL3LINESTRIKE', 'group': 'Pattern Recognition', 'display_name': 'Three-Line Strike ', 'function_flags': ['Output is a candlestick'], 'input_names': OrderedDict([('prices', ['open', 'high', 'low', 'close'])]), 'parameters': OrderedDict(), 'output_flags': OrderedDict([('integer', ['Line'])]), 'output_names': ['integer']},\n",
       " {'name': 'CDL3OUTSIDE', 'group': 'Pattern Recognition', 'display_name': 'Three Outside Up/Down', 'function_flags': ['Output is a candlestick'], 'input_names': OrderedDict([('prices', ['open', 'high', 'low', 'close'])]), 'parameters': OrderedDict(), 'output_flags': OrderedDict([('integer', ['Line'])]), 'output_names': ['integer']},\n",
       " {'name': 'CDL3STARSINSOUTH', 'group': 'Pattern Recognition', 'display_name': 'Three Stars In The South', 'function_flags': ['Output is a candlestick'], 'input_names': OrderedDict([('prices', ['open', 'high', 'low', 'close'])]), 'parameters': OrderedDict(), 'output_flags': OrderedDict([('integer', ['Line'])]), 'output_names': ['integer']},\n",
       " {'name': 'CDL3WHITESOLDIERS', 'group': 'Pattern Recognition', 'display_name': 'Three Advancing White Soldiers', 'function_flags': ['Output is a candlestick'], 'input_names': OrderedDict([('prices', ['open', 'high', 'low', 'close'])]), 'parameters': OrderedDict(), 'output_flags': OrderedDict([('integer', ['Line'])]), 'output_names': ['integer']},\n",
       " {'name': 'CDLABANDONEDBABY', 'group': 'Pattern Recognition', 'display_name': 'Abandoned Baby', 'function_flags': ['Output is a candlestick'], 'input_names': OrderedDict([('prices', ['open', 'high', 'low', 'close'])]), 'parameters': OrderedDict([('penetration', 0.3)]), 'output_flags': OrderedDict([('integer', ['Line'])]), 'output_names': ['integer']},\n",
       " {'name': 'CDLADVANCEBLOCK', 'group': 'Pattern Recognition', 'display_name': 'Advance Block', 'function_flags': ['Output is a candlestick'], 'input_names': OrderedDict([('prices', ['open', 'high', 'low', 'close'])]), 'parameters': OrderedDict(), 'output_flags': OrderedDict([('integer', ['Line'])]), 'output_names': ['integer']},\n",
       " {'name': 'CDLBELTHOLD', 'group': 'Pattern Recognition', 'display_name': 'Belt-hold', 'function_flags': ['Output is a candlestick'], 'input_names': OrderedDict([('prices', ['open', 'high', 'low', 'close'])]), 'parameters': OrderedDict(), 'output_flags': OrderedDict([('integer', ['Line'])]), 'output_names': ['integer']},\n",
       " {'name': 'CDLBREAKAWAY', 'group': 'Pattern Recognition', 'display_name': 'Breakaway', 'function_flags': ['Output is a candlestick'], 'input_names': OrderedDict([('prices', ['open', 'high', 'low', 'close'])]), 'parameters': OrderedDict(), 'output_flags': OrderedDict([('integer', ['Line'])]), 'output_names': ['integer']},\n",
       " {'name': 'CDLCLOSINGMARUBOZU', 'group': 'Pattern Recognition', 'display_name': 'Closing Marubozu', 'function_flags': ['Output is a candlestick'], 'input_names': OrderedDict([('prices', ['open', 'high', 'low', 'close'])]), 'parameters': OrderedDict(), 'output_flags': OrderedDict([('integer', ['Line'])]), 'output_names': ['integer']},\n",
       " {'name': 'CDLCONCEALBABYSWALL', 'group': 'Pattern Recognition', 'display_name': 'Concealing Baby Swallow', 'function_flags': ['Output is a candlestick'], 'input_names': OrderedDict([('prices', ['open', 'high', 'low', 'close'])]), 'parameters': OrderedDict(), 'output_flags': OrderedDict([('integer', ['Line'])]), 'output_names': ['integer']},\n",
       " {'name': 'CDLCOUNTERATTACK', 'group': 'Pattern Recognition', 'display_name': 'Counterattack', 'function_flags': ['Output is a candlestick'], 'input_names': OrderedDict([('prices', ['open', 'high', 'low', 'close'])]), 'parameters': OrderedDict(), 'output_flags': OrderedDict([('integer', ['Line'])]), 'output_names': ['integer']},\n",
       " {'name': 'CDLDARKCLOUDCOVER', 'group': 'Pattern Recognition', 'display_name': 'Dark Cloud Cover', 'function_flags': ['Output is a candlestick'], 'input_names': OrderedDict([('prices', ['open', 'high', 'low', 'close'])]), 'parameters': OrderedDict([('penetration', 0.5)]), 'output_flags': OrderedDict([('integer', ['Line'])]), 'output_names': ['integer']},\n",
       " {'name': 'CDLDOJI', 'group': 'Pattern Recognition', 'display_name': 'Doji', 'function_flags': ['Output is a candlestick'], 'input_names': OrderedDict([('prices', ['open', 'high', 'low', 'close'])]), 'parameters': OrderedDict(), 'output_flags': OrderedDict([('integer', ['Line'])]), 'output_names': ['integer']},\n",
       " {'name': 'CDLDOJISTAR', 'group': 'Pattern Recognition', 'display_name': 'Doji Star', 'function_flags': ['Output is a candlestick'], 'input_names': OrderedDict([('prices', ['open', 'high', 'low', 'close'])]), 'parameters': OrderedDict(), 'output_flags': OrderedDict([('integer', ['Line'])]), 'output_names': ['integer']},\n",
       " {'name': 'CDLDRAGONFLYDOJI', 'group': 'Pattern Recognition', 'display_name': 'Dragonfly Doji', 'function_flags': ['Output is a candlestick'], 'input_names': OrderedDict([('prices', ['open', 'high', 'low', 'close'])]), 'parameters': OrderedDict(), 'output_flags': OrderedDict([('integer', ['Line'])]), 'output_names': ['integer']},\n",
       " {'name': 'CDLENGULFING', 'group': 'Pattern Recognition', 'display_name': 'Engulfing Pattern', 'function_flags': ['Output is a candlestick'], 'input_names': OrderedDict([('prices', ['open', 'high', 'low', 'close'])]), 'parameters': OrderedDict(), 'output_flags': OrderedDict([('integer', ['Line'])]), 'output_names': ['integer']},\n",
       " {'name': 'CDLEVENINGDOJISTAR', 'group': 'Pattern Recognition', 'display_name': 'Evening Doji Star', 'function_flags': ['Output is a candlestick'], 'input_names': OrderedDict([('prices', ['open', 'high', 'low', 'close'])]), 'parameters': OrderedDict([('penetration', 0.3)]), 'output_flags': OrderedDict([('integer', ['Line'])]), 'output_names': ['integer']},\n",
       " {'name': 'CDLEVENINGSTAR', 'group': 'Pattern Recognition', 'display_name': 'Evening Star', 'function_flags': ['Output is a candlestick'], 'input_names': OrderedDict([('prices', ['open', 'high', 'low', 'close'])]), 'parameters': OrderedDict([('penetration', 0.3)]), 'output_flags': OrderedDict([('integer', ['Line'])]), 'output_names': ['integer']},\n",
       " {'name': 'CDLGAPSIDESIDEWHITE', 'group': 'Pattern Recognition', 'display_name': 'Up/Down-gap side-by-side white lines', 'function_flags': ['Output is a candlestick'], 'input_names': OrderedDict([('prices', ['open', 'high', 'low', 'close'])]), 'parameters': OrderedDict(), 'output_flags': OrderedDict([('integer', ['Line'])]), 'output_names': ['integer']},\n",
       " {'name': 'CDLGRAVESTONEDOJI', 'group': 'Pattern Recognition', 'display_name': 'Gravestone Doji', 'function_flags': ['Output is a candlestick'], 'input_names': OrderedDict([('prices', ['open', 'high', 'low', 'close'])]), 'parameters': OrderedDict(), 'output_flags': OrderedDict([('integer', ['Line'])]), 'output_names': ['integer']},\n",
       " {'name': 'CDLHAMMER', 'group': 'Pattern Recognition', 'display_name': 'Hammer', 'function_flags': ['Output is a candlestick'], 'input_names': OrderedDict([('prices', ['open', 'high', 'low', 'close'])]), 'parameters': OrderedDict(), 'output_flags': OrderedDict([('integer', ['Line'])]), 'output_names': ['integer']},\n",
       " {'name': 'CDLHANGINGMAN', 'group': 'Pattern Recognition', 'display_name': 'Hanging Man', 'function_flags': ['Output is a candlestick'], 'input_names': OrderedDict([('prices', ['open', 'high', 'low', 'close'])]), 'parameters': OrderedDict(), 'output_flags': OrderedDict([('integer', ['Line'])]), 'output_names': ['integer']},\n",
       " {'name': 'CDLHARAMI', 'group': 'Pattern Recognition', 'display_name': 'Harami Pattern', 'function_flags': ['Output is a candlestick'], 'input_names': OrderedDict([('prices', ['open', 'high', 'low', 'close'])]), 'parameters': OrderedDict(), 'output_flags': OrderedDict([('integer', ['Line'])]), 'output_names': ['integer']},\n",
       " {'name': 'CDLHARAMICROSS', 'group': 'Pattern Recognition', 'display_name': 'Harami Cross Pattern', 'function_flags': ['Output is a candlestick'], 'input_names': OrderedDict([('prices', ['open', 'high', 'low', 'close'])]), 'parameters': OrderedDict(), 'output_flags': OrderedDict([('integer', ['Line'])]), 'output_names': ['integer']},\n",
       " {'name': 'CDLHIGHWAVE', 'group': 'Pattern Recognition', 'display_name': 'High-Wave Candle', 'function_flags': ['Output is a candlestick'], 'input_names': OrderedDict([('prices', ['open', 'high', 'low', 'close'])]), 'parameters': OrderedDict(), 'output_flags': OrderedDict([('integer', ['Line'])]), 'output_names': ['integer']},\n",
       " {'name': 'CDLHIKKAKE', 'group': 'Pattern Recognition', 'display_name': 'Hikkake Pattern', 'function_flags': ['Output is a candlestick'], 'input_names': OrderedDict([('prices', ['open', 'high', 'low', 'close'])]), 'parameters': OrderedDict(), 'output_flags': OrderedDict([('integer', ['Line'])]), 'output_names': ['integer']},\n",
       " {'name': 'CDLHIKKAKEMOD', 'group': 'Pattern Recognition', 'display_name': 'Modified Hikkake Pattern', 'function_flags': ['Output is a candlestick'], 'input_names': OrderedDict([('prices', ['open', 'high', 'low', 'close'])]), 'parameters': OrderedDict(), 'output_flags': OrderedDict([('integer', ['Line'])]), 'output_names': ['integer']},\n",
       " {'name': 'CDLHOMINGPIGEON', 'group': 'Pattern Recognition', 'display_name': 'Homing Pigeon', 'function_flags': ['Output is a candlestick'], 'input_names': OrderedDict([('prices', ['open', 'high', 'low', 'close'])]), 'parameters': OrderedDict(), 'output_flags': OrderedDict([('integer', ['Line'])]), 'output_names': ['integer']},\n",
       " {'name': 'CDLIDENTICAL3CROWS', 'group': 'Pattern Recognition', 'display_name': 'Identical Three Crows', 'function_flags': ['Output is a candlestick'], 'input_names': OrderedDict([('prices', ['open', 'high', 'low', 'close'])]), 'parameters': OrderedDict(), 'output_flags': OrderedDict([('integer', ['Line'])]), 'output_names': ['integer']},\n",
       " {'name': 'CDLINNECK', 'group': 'Pattern Recognition', 'display_name': 'In-Neck Pattern', 'function_flags': ['Output is a candlestick'], 'input_names': OrderedDict([('prices', ['open', 'high', 'low', 'close'])]), 'parameters': OrderedDict(), 'output_flags': OrderedDict([('integer', ['Line'])]), 'output_names': ['integer']},\n",
       " {'name': 'CDLINVERTEDHAMMER', 'group': 'Pattern Recognition', 'display_name': 'Inverted Hammer', 'function_flags': ['Output is a candlestick'], 'input_names': OrderedDict([('prices', ['open', 'high', 'low', 'close'])]), 'parameters': OrderedDict(), 'output_flags': OrderedDict([('integer', ['Line'])]), 'output_names': ['integer']},\n",
       " {'name': 'CDLKICKING', 'group': 'Pattern Recognition', 'display_name': 'Kicking', 'function_flags': ['Output is a candlestick'], 'input_names': OrderedDict([('prices', ['open', 'high', 'low', 'close'])]), 'parameters': OrderedDict(), 'output_flags': OrderedDict([('integer', ['Line'])]), 'output_names': ['integer']},\n",
       " {'name': 'CDLKICKINGBYLENGTH', 'group': 'Pattern Recognition', 'display_name': 'Kicking - bull/bear determined by the longer marubozu', 'function_flags': ['Output is a candlestick'], 'input_names': OrderedDict([('prices', ['open', 'high', 'low', 'close'])]), 'parameters': OrderedDict(), 'output_flags': OrderedDict([('integer', ['Line'])]), 'output_names': ['integer']},\n",
       " {'name': 'CDLLADDERBOTTOM', 'group': 'Pattern Recognition', 'display_name': 'Ladder Bottom', 'function_flags': ['Output is a candlestick'], 'input_names': OrderedDict([('prices', ['open', 'high', 'low', 'close'])]), 'parameters': OrderedDict(), 'output_flags': OrderedDict([('integer', ['Line'])]), 'output_names': ['integer']},\n",
       " {'name': 'CDLLONGLEGGEDDOJI', 'group': 'Pattern Recognition', 'display_name': 'Long Legged Doji', 'function_flags': ['Output is a candlestick'], 'input_names': OrderedDict([('prices', ['open', 'high', 'low', 'close'])]), 'parameters': OrderedDict(), 'output_flags': OrderedDict([('integer', ['Line'])]), 'output_names': ['integer']},\n",
       " {'name': 'CDLLONGLINE', 'group': 'Pattern Recognition', 'display_name': 'Long Line Candle', 'function_flags': ['Output is a candlestick'], 'input_names': OrderedDict([('prices', ['open', 'high', 'low', 'close'])]), 'parameters': OrderedDict(), 'output_flags': OrderedDict([('integer', ['Line'])]), 'output_names': ['integer']},\n",
       " {'name': 'CDLMARUBOZU', 'group': 'Pattern Recognition', 'display_name': 'Marubozu', 'function_flags': ['Output is a candlestick'], 'input_names': OrderedDict([('prices', ['open', 'high', 'low', 'close'])]), 'parameters': OrderedDict(), 'output_flags': OrderedDict([('integer', ['Line'])]), 'output_names': ['integer']},\n",
       " {'name': 'CDLMATCHINGLOW', 'group': 'Pattern Recognition', 'display_name': 'Matching Low', 'function_flags': ['Output is a candlestick'], 'input_names': OrderedDict([('prices', ['open', 'high', 'low', 'close'])]), 'parameters': OrderedDict(), 'output_flags': OrderedDict([('integer', ['Line'])]), 'output_names': ['integer']},\n",
       " {'name': 'CDLMATHOLD', 'group': 'Pattern Recognition', 'display_name': 'Mat Hold', 'function_flags': ['Output is a candlestick'], 'input_names': OrderedDict([('prices', ['open', 'high', 'low', 'close'])]), 'parameters': OrderedDict([('penetration', 0.5)]), 'output_flags': OrderedDict([('integer', ['Line'])]), 'output_names': ['integer']},\n",
       " {'name': 'CDLMORNINGDOJISTAR', 'group': 'Pattern Recognition', 'display_name': 'Morning Doji Star', 'function_flags': ['Output is a candlestick'], 'input_names': OrderedDict([('prices', ['open', 'high', 'low', 'close'])]), 'parameters': OrderedDict([('penetration', 0.3)]), 'output_flags': OrderedDict([('integer', ['Line'])]), 'output_names': ['integer']},\n",
       " {'name': 'CDLMORNINGSTAR', 'group': 'Pattern Recognition', 'display_name': 'Morning Star', 'function_flags': ['Output is a candlestick'], 'input_names': OrderedDict([('prices', ['open', 'high', 'low', 'close'])]), 'parameters': OrderedDict([('penetration', 0.3)]), 'output_flags': OrderedDict([('integer', ['Line'])]), 'output_names': ['integer']},\n",
       " {'name': 'CDLONNECK', 'group': 'Pattern Recognition', 'display_name': 'On-Neck Pattern', 'function_flags': ['Output is a candlestick'], 'input_names': OrderedDict([('prices', ['open', 'high', 'low', 'close'])]), 'parameters': OrderedDict(), 'output_flags': OrderedDict([('integer', ['Line'])]), 'output_names': ['integer']},\n",
       " {'name': 'CDLPIERCING', 'group': 'Pattern Recognition', 'display_name': 'Piercing Pattern', 'function_flags': ['Output is a candlestick'], 'input_names': OrderedDict([('prices', ['open', 'high', 'low', 'close'])]), 'parameters': OrderedDict(), 'output_flags': OrderedDict([('integer', ['Line'])]), 'output_names': ['integer']},\n",
       " {'name': 'CDLRICKSHAWMAN', 'group': 'Pattern Recognition', 'display_name': 'Rickshaw Man', 'function_flags': ['Output is a candlestick'], 'input_names': OrderedDict([('prices', ['open', 'high', 'low', 'close'])]), 'parameters': OrderedDict(), 'output_flags': OrderedDict([('integer', ['Line'])]), 'output_names': ['integer']},\n",
       " {'name': 'CDLRISEFALL3METHODS', 'group': 'Pattern Recognition', 'display_name': 'Rising/Falling Three Methods', 'function_flags': ['Output is a candlestick'], 'input_names': OrderedDict([('prices', ['open', 'high', 'low', 'close'])]), 'parameters': OrderedDict(), 'output_flags': OrderedDict([('integer', ['Line'])]), 'output_names': ['integer']},\n",
       " {'name': 'CDLSEPARATINGLINES', 'group': 'Pattern Recognition', 'display_name': 'Separating Lines', 'function_flags': ['Output is a candlestick'], 'input_names': OrderedDict([('prices', ['open', 'high', 'low', 'close'])]), 'parameters': OrderedDict(), 'output_flags': OrderedDict([('integer', ['Line'])]), 'output_names': ['integer']},\n",
       " {'name': 'CDLSHOOTINGSTAR', 'group': 'Pattern Recognition', 'display_name': 'Shooting Star', 'function_flags': ['Output is a candlestick'], 'input_names': OrderedDict([('prices', ['open', 'high', 'low', 'close'])]), 'parameters': OrderedDict(), 'output_flags': OrderedDict([('integer', ['Line'])]), 'output_names': ['integer']},\n",
       " {'name': 'CDLSHORTLINE', 'group': 'Pattern Recognition', 'display_name': 'Short Line Candle', 'function_flags': ['Output is a candlestick'], 'input_names': OrderedDict([('prices', ['open', 'high', 'low', 'close'])]), 'parameters': OrderedDict(), 'output_flags': OrderedDict([('integer', ['Line'])]), 'output_names': ['integer']},\n",
       " {'name': 'CDLSPINNINGTOP', 'group': 'Pattern Recognition', 'display_name': 'Spinning Top', 'function_flags': ['Output is a candlestick'], 'input_names': OrderedDict([('prices', ['open', 'high', 'low', 'close'])]), 'parameters': OrderedDict(), 'output_flags': OrderedDict([('integer', ['Line'])]), 'output_names': ['integer']},\n",
       " {'name': 'CDLSTALLEDPATTERN', 'group': 'Pattern Recognition', 'display_name': 'Stalled Pattern', 'function_flags': ['Output is a candlestick'], 'input_names': OrderedDict([('prices', ['open', 'high', 'low', 'close'])]), 'parameters': OrderedDict(), 'output_flags': OrderedDict([('integer', ['Line'])]), 'output_names': ['integer']},\n",
       " {'name': 'CDLSTICKSANDWICH', 'group': 'Pattern Recognition', 'display_name': 'Stick Sandwich', 'function_flags': ['Output is a candlestick'], 'input_names': OrderedDict([('prices', ['open', 'high', 'low', 'close'])]), 'parameters': OrderedDict(), 'output_flags': OrderedDict([('integer', ['Line'])]), 'output_names': ['integer']},\n",
       " {'name': 'CDLTAKURI', 'group': 'Pattern Recognition', 'display_name': 'Takuri (Dragonfly Doji with very long lower shadow)', 'function_flags': ['Output is a candlestick'], 'input_names': OrderedDict([('prices', ['open', 'high', 'low', 'close'])]), 'parameters': OrderedDict(), 'output_flags': OrderedDict([('integer', ['Line'])]), 'output_names': ['integer']},\n",
       " {'name': 'CDLTASUKIGAP', 'group': 'Pattern Recognition', 'display_name': 'Tasuki Gap', 'function_flags': ['Output is a candlestick'], 'input_names': OrderedDict([('prices', ['open', 'high', 'low', 'close'])]), 'parameters': OrderedDict(), 'output_flags': OrderedDict([('integer', ['Line'])]), 'output_names': ['integer']},\n",
       " {'name': 'CDLTHRUSTING', 'group': 'Pattern Recognition', 'display_name': 'Thrusting Pattern', 'function_flags': ['Output is a candlestick'], 'input_names': OrderedDict([('prices', ['open', 'high', 'low', 'close'])]), 'parameters': OrderedDict(), 'output_flags': OrderedDict([('integer', ['Line'])]), 'output_names': ['integer']},\n",
       " {'name': 'CDLTRISTAR', 'group': 'Pattern Recognition', 'display_name': 'Tristar Pattern', 'function_flags': ['Output is a candlestick'], 'input_names': OrderedDict([('prices', ['open', 'high', 'low', 'close'])]), 'parameters': OrderedDict(), 'output_flags': OrderedDict([('integer', ['Line'])]), 'output_names': ['integer']},\n",
       " {'name': 'CDLUNIQUE3RIVER', 'group': 'Pattern Recognition', 'display_name': 'Unique 3 River', 'function_flags': ['Output is a candlestick'], 'input_names': OrderedDict([('prices', ['open', 'high', 'low', 'close'])]), 'parameters': OrderedDict(), 'output_flags': OrderedDict([('integer', ['Line'])]), 'output_names': ['integer']},\n",
       " {'name': 'CDLUPSIDEGAP2CROWS', 'group': 'Pattern Recognition', 'display_name': 'Upside Gap Two Crows', 'function_flags': ['Output is a candlestick'], 'input_names': OrderedDict([('prices', ['open', 'high', 'low', 'close'])]), 'parameters': OrderedDict(), 'output_flags': OrderedDict([('integer', ['Line'])]), 'output_names': ['integer']},\n",
       " {'name': 'CDLXSIDEGAP3METHODS', 'group': 'Pattern Recognition', 'display_name': 'Upside/Downside Gap Three Methods', 'function_flags': ['Output is a candlestick'], 'input_names': OrderedDict([('prices', ['open', 'high', 'low', 'close'])]), 'parameters': OrderedDict(), 'output_flags': OrderedDict([('integer', ['Line'])]), 'output_names': ['integer']},\n",
       " functools.partial({'name': 'CMO', 'group': 'Momentum Indicators', 'display_name': 'Chande Momentum Oscillator', 'function_flags': ['Function has an unstable period'], 'input_names': OrderedDict([('price', 'close')]), 'parameters': OrderedDict([('timeperiod', 14)]), 'output_flags': OrderedDict([('real', ['Line'])]), 'output_names': ['real']}, timeperiod=10),\n",
       " functools.partial({'name': 'CORREL', 'group': 'Statistic Functions', 'display_name': \"Pearson's Correlation Coefficient (r)\", 'function_flags': None, 'input_names': OrderedDict([('price0', 'high'), ('price1', 'low')]), 'parameters': OrderedDict([('timeperiod', 30)]), 'output_flags': OrderedDict([('real', ['Line'])]), 'output_names': ['real']}, timeperiod=10),\n",
       " functools.partial({'name': 'DX', 'group': 'Momentum Indicators', 'display_name': 'Directional Movement Index', 'function_flags': ['Function has an unstable period'], 'input_names': OrderedDict([('prices', ['high', 'low', 'close'])]), 'parameters': OrderedDict([('timeperiod', 14)]), 'output_flags': OrderedDict([('real', ['Line'])]), 'output_names': ['real']}, timeperiod=10),\n",
       " {'name': 'HT_DCPERIOD', 'group': 'Cycle Indicators', 'display_name': 'Hilbert Transform - Dominant Cycle Period', 'function_flags': ['Function has an unstable period'], 'input_names': OrderedDict([('price', 'close')]), 'parameters': OrderedDict(), 'output_flags': OrderedDict([('real', ['Line'])]), 'output_names': ['real']},\n",
       " {'name': 'HT_DCPHASE', 'group': 'Cycle Indicators', 'display_name': 'Hilbert Transform - Dominant Cycle Phase', 'function_flags': ['Function has an unstable period'], 'input_names': OrderedDict([('price', 'close')]), 'parameters': OrderedDict(), 'output_flags': OrderedDict([('real', ['Line'])]), 'output_names': ['real']},\n",
       " {'name': 'HT_PHASOR', 'group': 'Cycle Indicators', 'display_name': 'Hilbert Transform - Phasor Components', 'function_flags': ['Function has an unstable period'], 'input_names': OrderedDict([('price', 'close')]), 'parameters': OrderedDict(), 'output_flags': OrderedDict([('inphase', ['Line']), ('quadrature', ['Dashed Line'])]), 'output_names': ['inphase', 'quadrature']},\n",
       " {'name': 'HT_SINE', 'group': 'Cycle Indicators', 'display_name': 'Hilbert Transform - SineWave', 'function_flags': ['Function has an unstable period'], 'input_names': OrderedDict([('price', 'close')]), 'parameters': OrderedDict(), 'output_flags': OrderedDict([('sine', ['Line']), ('leadsine', ['Dashed Line'])]), 'output_names': ['sine', 'leadsine']},\n",
       " {'name': 'HT_TRENDLINE', 'group': 'Overlap Studies', 'display_name': 'Hilbert Transform - Instantaneous Trendline', 'function_flags': ['Output scale same as input', 'Function has an unstable period'], 'input_names': OrderedDict([('price', 'close')]), 'parameters': OrderedDict(), 'output_flags': OrderedDict([('real', ['Line'])]), 'output_names': ['real']},\n",
       " {'name': 'HT_TRENDMODE', 'group': 'Cycle Indicators', 'display_name': 'Hilbert Transform - Trend vs Cycle Mode', 'function_flags': ['Function has an unstable period'], 'input_names': OrderedDict([('price', 'close')]), 'parameters': OrderedDict(), 'output_flags': OrderedDict([('integer', ['Line'])]), 'output_names': ['integer']},\n",
       " functools.partial({'name': 'LINEARREG', 'group': 'Statistic Functions', 'display_name': 'Linear Regression', 'function_flags': ['Output scale same as input'], 'input_names': OrderedDict([('price', 'close')]), 'parameters': OrderedDict([('timeperiod', 14)]), 'output_flags': OrderedDict([('real', ['Line'])]), 'output_names': ['real']}, timeperiod=10),\n",
       " functools.partial({'name': 'LINEARREG_ANGLE', 'group': 'Statistic Functions', 'display_name': 'Linear Regression Angle', 'function_flags': None, 'input_names': OrderedDict([('price', 'close')]), 'parameters': OrderedDict([('timeperiod', 14)]), 'output_flags': OrderedDict([('real', ['Line'])]), 'output_names': ['real']}, timeperiod=10),\n",
       " functools.partial({'name': 'LINEARREG_INTERCEPT', 'group': 'Statistic Functions', 'display_name': 'Linear Regression Intercept', 'function_flags': ['Output scale same as input'], 'input_names': OrderedDict([('price', 'close')]), 'parameters': OrderedDict([('timeperiod', 14)]), 'output_flags': OrderedDict([('real', ['Line'])]), 'output_names': ['real']}, timeperiod=10),\n",
       " functools.partial({'name': 'LINEARREG_SLOPE', 'group': 'Statistic Functions', 'display_name': 'Linear Regression Slope', 'function_flags': None, 'input_names': OrderedDict([('price', 'close')]), 'parameters': OrderedDict([('timeperiod', 14)]), 'output_flags': OrderedDict([('real', ['Line'])]), 'output_names': ['real']}, timeperiod=10),\n",
       " None,\n",
       " None,\n",
       " functools.partial({'name': 'MFI', 'group': 'Momentum Indicators', 'display_name': 'Money Flow Index', 'function_flags': ['Function has an unstable period'], 'input_names': OrderedDict([('prices', ['high', 'low', 'close', 'volume'])]), 'parameters': OrderedDict([('timeperiod', 14)]), 'output_flags': OrderedDict([('real', ['Line'])]), 'output_names': ['real']}, timeperiod=10),\n",
       " functools.partial({'name': 'MINUS_DM', 'group': 'Momentum Indicators', 'display_name': 'Minus Directional Movement', 'function_flags': ['Function has an unstable period'], 'input_names': OrderedDict([('prices', ['high', 'low'])]), 'parameters': OrderedDict([('timeperiod', 14)]), 'output_flags': OrderedDict([('real', ['Line'])]), 'output_names': ['real']}, timeperiod=10),\n",
       " functools.partial({'name': 'MOM', 'group': 'Momentum Indicators', 'display_name': 'Momentum', 'function_flags': None, 'input_names': OrderedDict([('price', 'close')]), 'parameters': OrderedDict([('timeperiod', 10)]), 'output_flags': OrderedDict([('real', ['Line'])]), 'output_names': ['real']}, timeperiod=10),\n",
       " functools.partial({'name': 'NATR', 'group': 'Volatility Indicators', 'display_name': 'Normalized Average True Range', 'function_flags': ['Function has an unstable period'], 'input_names': OrderedDict([('prices', ['high', 'low', 'close'])]), 'parameters': OrderedDict([('timeperiod', 14)]), 'output_flags': OrderedDict([('real', ['Line'])]), 'output_names': ['real']}, timeperiod=10),\n",
       " functools.partial({'name': 'PLUS_DM', 'group': 'Momentum Indicators', 'display_name': 'Plus Directional Movement', 'function_flags': ['Function has an unstable period'], 'input_names': OrderedDict([('prices', ['high', 'low'])]), 'parameters': OrderedDict([('timeperiod', 14)]), 'output_flags': OrderedDict([('real', ['Line'])]), 'output_names': ['real']}, timeperiod=10),\n",
       " functools.partial({'name': 'PPO', 'group': 'Momentum Indicators', 'display_name': 'Percentage Price Oscillator', 'function_flags': None, 'input_names': OrderedDict([('price', 'close')]), 'parameters': OrderedDict([('fastperiod', 12), ('slowperiod', 26), ('matype', 0)]), 'output_flags': OrderedDict([('real', ['Line'])]), 'output_names': ['real']}, fastperiod=10, slowperiod=30),\n",
       " functools.partial({'name': 'ROC', 'group': 'Momentum Indicators', 'display_name': 'Rate of change : ((price/prevPrice)-1)*100', 'function_flags': None, 'input_names': OrderedDict([('price', 'close')]), 'parameters': OrderedDict([('timeperiod', 10)]), 'output_flags': OrderedDict([('real', ['Line'])]), 'output_names': ['real']}, timeperiod=10),\n",
       " functools.partial({'name': 'RSI', 'group': 'Momentum Indicators', 'display_name': 'Relative Strength Index', 'function_flags': ['Function has an unstable period'], 'input_names': OrderedDict([('price', 'close')]), 'parameters': OrderedDict([('timeperiod', 14)]), 'output_flags': OrderedDict([('real', ['Line'])]), 'output_names': ['real']}, timeperiod=10),\n",
       " functools.partial({'name': 'STDDEV', 'group': 'Statistic Functions', 'display_name': 'Standard Deviation', 'function_flags': None, 'input_names': OrderedDict([('price', 'close')]), 'parameters': OrderedDict([('timeperiod', 5), ('nbdev', 1)]), 'output_flags': OrderedDict([('real', ['Line'])]), 'output_names': ['real']}, timeperiod=10),\n",
       " functools.partial({'name': 'STOCHF', 'group': 'Momentum Indicators', 'display_name': 'Stochastic Fast', 'function_flags': None, 'input_names': OrderedDict([('prices', ['high', 'low', 'close'])]), 'parameters': OrderedDict([('fastk_period', 5), ('fastd_period', 3), ('fastd_matype', 0)]), 'output_flags': OrderedDict([('fastk', ['Line']), ('fastd', ['Line'])]), 'output_names': ['fastk', 'fastd']}, fastk_period=10, fastd_period=5),\n",
       " functools.partial({'name': 'STOCHRSI', 'group': 'Momentum Indicators', 'display_name': 'Stochastic Relative Strength Index', 'function_flags': ['Function has an unstable period'], 'input_names': OrderedDict([('price', 'close')]), 'parameters': OrderedDict([('timeperiod', 14), ('fastk_period', 5), ('fastd_period', 3), ('fastd_matype', 0)]), 'output_flags': OrderedDict([('fastk', ['Line']), ('fastd', ['Line'])]), 'output_names': ['fastk', 'fastd']}, timeperiod=10),\n",
       " functools.partial({'name': 'STOCH', 'group': 'Momentum Indicators', 'display_name': 'Stochastic', 'function_flags': None, 'input_names': OrderedDict([('prices', ['high', 'low', 'close'])]), 'parameters': OrderedDict([('fastk_period', 5), ('slowk_period', 3), ('slowk_matype', 0), ('slowd_period', 3), ('slowd_matype', 0)]), 'output_flags': OrderedDict([('slowk', ['Dashed Line']), ('slowd', ['Dashed Line'])]), 'output_names': ['slowk', 'slowd']}, fastk_period=10, slowk_period=5, slowd_period=5),\n",
       " {'name': 'TRANGE', 'group': 'Volatility Indicators', 'display_name': 'True Range', 'function_flags': None, 'input_names': OrderedDict([('prices', ['high', 'low', 'close'])]), 'parameters': OrderedDict(), 'output_flags': OrderedDict([('real', ['Line'])]), 'output_names': ['real']},\n",
       " functools.partial({'name': 'TSF', 'group': 'Statistic Functions', 'display_name': 'Time Series Forecast', 'function_flags': ['Output scale same as input'], 'input_names': OrderedDict([('price', 'close')]), 'parameters': OrderedDict([('timeperiod', 14)]), 'output_flags': OrderedDict([('real', ['Line'])]), 'output_names': ['real']}, timeperiod=10),\n",
       " {'name': 'ULTOSC', 'group': 'Momentum Indicators', 'display_name': 'Ultimate Oscillator', 'function_flags': None, 'input_names': OrderedDict([('prices', ['high', 'low', 'close'])]), 'parameters': OrderedDict([('timeperiod1', 7), ('timeperiod2', 14), ('timeperiod3', 28)]), 'output_flags': OrderedDict([('real', ['Line'])]), 'output_names': ['real']},\n",
       " functools.partial({'name': 'VAR', 'group': 'Statistic Functions', 'display_name': 'Variance', 'function_flags': None, 'input_names': OrderedDict([('price', 'close')]), 'parameters': OrderedDict([('timeperiod', 5), ('nbdev', 1)]), 'output_flags': OrderedDict([('real', ['Line'])]), 'output_names': ['real']}, timeperiod=10),\n",
       " functools.partial({'name': 'WILLR', 'group': 'Momentum Indicators', 'display_name': \"Williams' %R\", 'function_flags': None, 'input_names': OrderedDict([('prices', ['high', 'low', 'close'])]), 'parameters': OrderedDict([('timeperiod', 14)]), 'output_flags': OrderedDict([('real', ['Line'])]), 'output_names': ['real']}, timeperiod=10),\n",
       " <function ml_rf_project.src.talib_map.<lambda>(x)>,\n",
       " <function ml_rf_project.src.talib_map.<lambda>(x)>,\n",
       " <function ml_rf_project.src.talib_map.<lambda>(x)>,\n",
       " <function ml_rf_project.src.talib_map.<lambda>(x)>]"
      ]
     },
     "execution_count": 16,
     "metadata": {},
     "output_type": "execute_result"
    }
   ],
   "source": [
    "func_pool"
   ]
  },
  {
   "cell_type": "code",
   "execution_count": 15,
   "metadata": {},
   "outputs": [
    {
     "name": "stdout",
     "output_type": "stream",
     "text": [
      "105\n",
      "104\n"
     ]
    }
   ],
   "source": [
    "# check for duplicates in func_pool\n",
    "print(len(func_pool))\n",
    "print(len(set(func_pool)))"
   ]
  },
  {
   "cell_type": "code",
   "execution_count": 10,
   "metadata": {},
   "outputs": [],
   "source": [
    "df[\"datetime\"] = pd.to_datetime(df[\"datetime\"])"
   ]
  },
  {
   "cell_type": "code",
   "execution_count": 14,
   "metadata": {},
   "outputs": [
    {
     "data": {
      "text/plain": [
       "0          0\n",
       "1          1\n",
       "2          2\n",
       "3          3\n",
       "4          4\n",
       "          ..\n",
       "379720    55\n",
       "379721    56\n",
       "379722    57\n",
       "379723    58\n",
       "379724    59\n",
       "Name: datetime, Length: 379725, dtype: int64"
      ]
     },
     "execution_count": 14,
     "metadata": {},
     "output_type": "execute_result"
    }
   ],
   "source": [
    "func_pool[-1](df.datetime)"
   ]
  },
  {
   "cell_type": "code",
   "execution_count": 13,
   "metadata": {},
   "outputs": [
    {
     "data": {
      "text/plain": [
       "{'name': 'SMA', 'group': 'Overlap Studies', 'display_name': 'Simple Moving Average', 'function_flags': ['Output scale same as input'], 'input_names': OrderedDict([('price', 'close')]), 'parameters': OrderedDict([('timeperiod', 30)]), 'output_flags': OrderedDict([('real', ['Line'])]), 'output_names': ['real']}"
      ]
     },
     "execution_count": 13,
     "metadata": {},
     "output_type": "execute_result"
    }
   ],
   "source": [
    "ta_map[\"SMA\"]"
   ]
  },
  {
   "cell_type": "code",
   "execution_count": 15,
   "metadata": {},
   "outputs": [],
   "source": [
    "inputs = {\n",
    "    \"open\": np.random.random(100),\n",
    "    \"high\": np.random.random(100),\n",
    "    \"low\": np.random.random(100),\n",
    "    \"close\": np.random.random(100),\n",
    "    \"volume\": np.random.random(100),\n",
    "}"
   ]
  },
  {
   "cell_type": "code",
   "execution_count": 17,
   "metadata": {},
   "outputs": [],
   "source": [
    "output = ta_map[\"SMA\"](inputs)"
   ]
  },
  {
   "cell_type": "code",
   "execution_count": 18,
   "metadata": {},
   "outputs": [
    {
     "data": {
      "text/plain": [
       "array([       nan,        nan,        nan,        nan,        nan,\n",
       "              nan,        nan,        nan,        nan,        nan,\n",
       "              nan,        nan,        nan,        nan,        nan,\n",
       "              nan,        nan,        nan,        nan,        nan,\n",
       "              nan,        nan,        nan,        nan,        nan,\n",
       "              nan,        nan,        nan,        nan, 0.56379035,\n",
       "       0.56592234, 0.56354196, 0.56357981, 0.5759606 , 0.57891895,\n",
       "       0.60568122, 0.6011442 , 0.58969133, 0.59014174, 0.57350315,\n",
       "       0.57023573, 0.57325048, 0.59691296, 0.59028906, 0.58817202,\n",
       "       0.6001237 , 0.62128806, 0.63327843, 0.64249598, 0.63900216,\n",
       "       0.60932516, 0.61402808, 0.62876631, 0.62519055, 0.60609979,\n",
       "       0.5998485 , 0.59959993, 0.6154019 , 0.59837884, 0.57913937,\n",
       "       0.57113615, 0.57756787, 0.57938978, 0.56931161, 0.54834979,\n",
       "       0.52476594, 0.51764841, 0.5154344 , 0.50179562, 0.5002672 ,\n",
       "       0.50768852, 0.51649726, 0.49683872, 0.51526277, 0.5169083 ,\n",
       "       0.51267145, 0.48763329, 0.48758422, 0.48207329, 0.46071142,\n",
       "       0.47642088, 0.45091657, 0.45824141, 0.46759019, 0.47318078,\n",
       "       0.46716633, 0.44599631, 0.43395166, 0.4543372 , 0.47010874,\n",
       "       0.48247447, 0.46838645, 0.45366125, 0.45229672, 0.4661567 ,\n",
       "       0.46049387, 0.46749872, 0.47477246, 0.49049222, 0.5022235 ])"
      ]
     },
     "execution_count": 18,
     "metadata": {},
     "output_type": "execute_result"
    }
   ],
   "source": [
    "output"
   ]
  },
  {
   "cell_type": "code",
   "execution_count": 5,
   "metadata": {},
   "outputs": [
    {
     "ename": "AttributeError",
     "evalue": "'function' object has no attribute 'parameters'",
     "output_type": "error",
     "traceback": [
      "\u001b[1;31m---------------------------------------------------------------------------\u001b[0m",
      "\u001b[1;31mAttributeError\u001b[0m                            Traceback (most recent call last)",
      "Cell \u001b[1;32mIn[5], line 1\u001b[0m\n\u001b[1;32m----> 1\u001b[0m ta\u001b[39m.\u001b[39;49mRSI\u001b[39m.\u001b[39;49mparameters\n",
      "\u001b[1;31mAttributeError\u001b[0m: 'function' object has no attribute 'parameters'"
     ]
    }
   ],
   "source": [
    "ta.RSI.parameters"
   ]
  },
  {
   "cell_type": "code",
   "execution_count": 6,
   "metadata": {},
   "outputs": [
    {
     "data": {
      "text/plain": [
       "OrderedDict([('timeperiod', 30)])"
      ]
     },
     "execution_count": 6,
     "metadata": {},
     "output_type": "execute_result"
    }
   ],
   "source": [
    "from talib import abstract\n",
    "\n",
    "abstract.SMA.parameters"
   ]
  },
  {
   "cell_type": "code",
   "execution_count": 2,
   "metadata": {},
   "outputs": [],
   "source": [
    "df = pd.read_csv(\"data.csv\")"
   ]
  },
  {
   "cell_type": "code",
   "execution_count": 3,
   "metadata": {},
   "outputs": [],
   "source": [
    "generate_time_features(df)"
   ]
  },
  {
   "cell_type": "code",
   "execution_count": 5,
   "metadata": {},
   "outputs": [
    {
     "data": {
      "text/plain": [
       "0        2018-11-27 09:00:00\n",
       "1        2018-11-27 09:01:00\n",
       "2        2018-11-27 09:02:00\n",
       "3        2018-11-27 09:03:00\n",
       "4        2018-11-27 09:04:00\n",
       "                 ...        \n",
       "379720   2023-07-27 22:55:00\n",
       "379721   2023-07-27 22:56:00\n",
       "379722   2023-07-27 22:57:00\n",
       "379723   2023-07-27 22:58:00\n",
       "379724   2023-07-27 22:59:00\n",
       "Name: datetime, Length: 379725, dtype: datetime64[ns]"
      ]
     },
     "execution_count": 5,
     "metadata": {},
     "output_type": "execute_result"
    }
   ],
   "source": [
    "df.datetime"
   ]
  },
  {
   "cell_type": "code",
   "execution_count": 5,
   "metadata": {},
   "outputs": [],
   "source": [
    "with open(\"feature_names.txt\", \"r\") as f:\n",
    "    features = f.read()"
   ]
  },
  {
   "cell_type": "code",
   "execution_count": 2,
   "metadata": {},
   "outputs": [],
   "source": [
    "import re"
   ]
  },
  {
   "cell_type": "markdown",
   "metadata": {},
   "source": [
    "# Save this for production use!"
   ]
  },
  {
   "cell_type": "code",
   "execution_count": 11,
   "metadata": {},
   "outputs": [],
   "source": [
    "with open(\"feature_names.txt\", \"r\") as f:\n",
    "    features = f.read()\n",
    "feats = re.findall(r\"(\\w+\\D)(\\d+\\b)\", features)\n",
    "func_pool = []"
   ]
  },
  {
   "cell_type": "code",
   "execution_count": 12,
   "metadata": {},
   "outputs": [],
   "source": [
    "for func in feats:\n",
    "    if func[0] == \"MACDHIST\" or func[0] == \"MACDSIGNAL\":\n",
    "        continue\n",
    "    if func[0] == \"MACDSIGNALFIX\" or func[0] == \"MACDHISTFIX\":\n",
    "        continue\n",
    "    if func[0] == \"STOCHRSI_k\" or func[0] == \"STOCHRSI_d\":\n",
    "        continue\n",
    "    if func[0] == \"HT_PHASORinphase\" or func[0] == \"HT_PHASORquadrature\":\n",
    "        func[0] = \"HT_PHASOR\"\n",
    "    if func[0] == \"HT_SINEsine\" or func[0] == \"HT_SINEleadsine\":\n",
    "        func[0] = \"HT_SINE\"\n",
    "    function = getattr(ta, func[0])\n",
    "    func_pool.append((function, int(func[1])))"
   ]
  },
  {
   "cell_type": "code",
   "execution_count": 25,
   "metadata": {},
   "outputs": [
    {
     "ename": "ValueError",
     "evalue": "no signature found for builtin <built-in function ADOSC>",
     "output_type": "error",
     "traceback": [
      "\u001b[1;31m---------------------------------------------------------------------------\u001b[0m",
      "\u001b[1;31mValueError\u001b[0m                                Traceback (most recent call last)",
      "Cell \u001b[1;32mIn[25], line 1\u001b[0m\n\u001b[1;32m----> 1\u001b[0m inspect\u001b[39m.\u001b[39;49msignature(func_pool[\u001b[39m0\u001b[39;49m][\u001b[39m0\u001b[39;49m])\n",
      "File \u001b[1;32md:\\veighna_elite\\lib\\inspect.py:3253\u001b[0m, in \u001b[0;36msignature\u001b[1;34m(obj, follow_wrapped, globals, locals, eval_str)\u001b[0m\n\u001b[0;32m   3251\u001b[0m \u001b[39mdef\u001b[39;00m \u001b[39msignature\u001b[39m(obj, \u001b[39m*\u001b[39m, follow_wrapped\u001b[39m=\u001b[39m\u001b[39mTrue\u001b[39;00m, \u001b[39mglobals\u001b[39m\u001b[39m=\u001b[39m\u001b[39mNone\u001b[39;00m, \u001b[39mlocals\u001b[39m\u001b[39m=\u001b[39m\u001b[39mNone\u001b[39;00m, eval_str\u001b[39m=\u001b[39m\u001b[39mFalse\u001b[39;00m):\n\u001b[0;32m   3252\u001b[0m \u001b[39m    \u001b[39m\u001b[39m\"\"\"Get a signature object for the passed callable.\"\"\"\u001b[39;00m\n\u001b[1;32m-> 3253\u001b[0m     \u001b[39mreturn\u001b[39;00m Signature\u001b[39m.\u001b[39;49mfrom_callable(obj, follow_wrapped\u001b[39m=\u001b[39;49mfollow_wrapped,\n\u001b[0;32m   3254\u001b[0m                                    \u001b[39mglobals\u001b[39;49m\u001b[39m=\u001b[39;49m\u001b[39mglobals\u001b[39;49m, \u001b[39mlocals\u001b[39;49m\u001b[39m=\u001b[39;49m\u001b[39mlocals\u001b[39;49m, eval_str\u001b[39m=\u001b[39;49meval_str)\n",
      "File \u001b[1;32md:\\veighna_elite\\lib\\inspect.py:3001\u001b[0m, in \u001b[0;36mSignature.from_callable\u001b[1;34m(cls, obj, follow_wrapped, globals, locals, eval_str)\u001b[0m\n\u001b[0;32m   2997\u001b[0m \u001b[39m@classmethod\u001b[39m\n\u001b[0;32m   2998\u001b[0m \u001b[39mdef\u001b[39;00m \u001b[39mfrom_callable\u001b[39m(\u001b[39mcls\u001b[39m, obj, \u001b[39m*\u001b[39m,\n\u001b[0;32m   2999\u001b[0m                   follow_wrapped\u001b[39m=\u001b[39m\u001b[39mTrue\u001b[39;00m, \u001b[39mglobals\u001b[39m\u001b[39m=\u001b[39m\u001b[39mNone\u001b[39;00m, \u001b[39mlocals\u001b[39m\u001b[39m=\u001b[39m\u001b[39mNone\u001b[39;00m, eval_str\u001b[39m=\u001b[39m\u001b[39mFalse\u001b[39;00m):\n\u001b[0;32m   3000\u001b[0m \u001b[39m    \u001b[39m\u001b[39m\"\"\"Constructs Signature for the given callable object.\"\"\"\u001b[39;00m\n\u001b[1;32m-> 3001\u001b[0m     \u001b[39mreturn\u001b[39;00m _signature_from_callable(obj, sigcls\u001b[39m=\u001b[39;49m\u001b[39mcls\u001b[39;49m,\n\u001b[0;32m   3002\u001b[0m                                     follow_wrapper_chains\u001b[39m=\u001b[39;49mfollow_wrapped,\n\u001b[0;32m   3003\u001b[0m                                     \u001b[39mglobals\u001b[39;49m\u001b[39m=\u001b[39;49m\u001b[39mglobals\u001b[39;49m, \u001b[39mlocals\u001b[39;49m\u001b[39m=\u001b[39;49m\u001b[39mlocals\u001b[39;49m, eval_str\u001b[39m=\u001b[39;49meval_str)\n",
      "File \u001b[1;32md:\\veighna_elite\\lib\\inspect.py:2467\u001b[0m, in \u001b[0;36m_signature_from_callable\u001b[1;34m(obj, follow_wrapper_chains, skip_bound_arg, globals, locals, eval_str, sigcls)\u001b[0m\n\u001b[0;32m   2462\u001b[0m     \u001b[39mreturn\u001b[39;00m _signature_from_function(sigcls, obj,\n\u001b[0;32m   2463\u001b[0m                                     skip_bound_arg\u001b[39m=\u001b[39mskip_bound_arg,\n\u001b[0;32m   2464\u001b[0m                                     \u001b[39mglobals\u001b[39m\u001b[39m=\u001b[39m\u001b[39mglobals\u001b[39m, \u001b[39mlocals\u001b[39m\u001b[39m=\u001b[39m\u001b[39mlocals\u001b[39m, eval_str\u001b[39m=\u001b[39meval_str)\n\u001b[0;32m   2466\u001b[0m \u001b[39mif\u001b[39;00m _signature_is_builtin(obj):\n\u001b[1;32m-> 2467\u001b[0m     \u001b[39mreturn\u001b[39;00m _signature_from_builtin(sigcls, obj,\n\u001b[0;32m   2468\u001b[0m                                    skip_bound_arg\u001b[39m=\u001b[39;49mskip_bound_arg)\n\u001b[0;32m   2470\u001b[0m \u001b[39mif\u001b[39;00m \u001b[39misinstance\u001b[39m(obj, functools\u001b[39m.\u001b[39mpartial):\n\u001b[0;32m   2471\u001b[0m     wrapped_sig \u001b[39m=\u001b[39m _get_signature_of(obj\u001b[39m.\u001b[39mfunc)\n",
      "File \u001b[1;32md:\\veighna_elite\\lib\\inspect.py:2274\u001b[0m, in \u001b[0;36m_signature_from_builtin\u001b[1;34m(cls, func, skip_bound_arg)\u001b[0m\n\u001b[0;32m   2272\u001b[0m s \u001b[39m=\u001b[39m \u001b[39mgetattr\u001b[39m(func, \u001b[39m\"\u001b[39m\u001b[39m__text_signature__\u001b[39m\u001b[39m\"\u001b[39m, \u001b[39mNone\u001b[39;00m)\n\u001b[0;32m   2273\u001b[0m \u001b[39mif\u001b[39;00m \u001b[39mnot\u001b[39;00m s:\n\u001b[1;32m-> 2274\u001b[0m     \u001b[39mraise\u001b[39;00m \u001b[39mValueError\u001b[39;00m(\u001b[39m\"\u001b[39m\u001b[39mno signature found for builtin \u001b[39m\u001b[39m{!r}\u001b[39;00m\u001b[39m\"\u001b[39m\u001b[39m.\u001b[39mformat(func))\n\u001b[0;32m   2276\u001b[0m \u001b[39mreturn\u001b[39;00m _signature_fromstr(\u001b[39mcls\u001b[39m, func, s, skip_bound_arg)\n",
      "\u001b[1;31mValueError\u001b[0m: no signature found for builtin <built-in function ADOSC>"
     ]
    }
   ],
   "source": [
    "inspect.signature(func_pool[0][0])"
   ]
  },
  {
   "cell_type": "code",
   "execution_count": 15,
   "metadata": {},
   "outputs": [],
   "source": [
    "import inspect"
   ]
  },
  {
   "cell_type": "code",
   "execution_count": 17,
   "metadata": {},
   "outputs": [
    {
     "ename": "ValueError",
     "evalue": "no signature found for builtin <built-in function ADOSC>",
     "output_type": "error",
     "traceback": [
      "\u001b[1;31m---------------------------------------------------------------------------\u001b[0m",
      "\u001b[1;31mValueError\u001b[0m                                Traceback (most recent call last)",
      "Cell \u001b[1;32mIn[17], line 2\u001b[0m\n\u001b[0;32m      1\u001b[0m \u001b[39mfor\u001b[39;00m func, lag \u001b[39min\u001b[39;00m func_pool:\n\u001b[1;32m----> 2\u001b[0m     parameters \u001b[39m=\u001b[39m inspect\u001b[39m.\u001b[39;49msignature(func)\u001b[39m.\u001b[39mparameters\n\u001b[0;32m      3\u001b[0m     \u001b[39mprint\u001b[39m(func, parameters)\n",
      "File \u001b[1;32md:\\veighna_elite\\lib\\inspect.py:3253\u001b[0m, in \u001b[0;36msignature\u001b[1;34m(obj, follow_wrapped, globals, locals, eval_str)\u001b[0m\n\u001b[0;32m   3251\u001b[0m \u001b[39mdef\u001b[39;00m \u001b[39msignature\u001b[39m(obj, \u001b[39m*\u001b[39m, follow_wrapped\u001b[39m=\u001b[39m\u001b[39mTrue\u001b[39;00m, \u001b[39mglobals\u001b[39m\u001b[39m=\u001b[39m\u001b[39mNone\u001b[39;00m, \u001b[39mlocals\u001b[39m\u001b[39m=\u001b[39m\u001b[39mNone\u001b[39;00m, eval_str\u001b[39m=\u001b[39m\u001b[39mFalse\u001b[39;00m):\n\u001b[0;32m   3252\u001b[0m \u001b[39m    \u001b[39m\u001b[39m\"\"\"Get a signature object for the passed callable.\"\"\"\u001b[39;00m\n\u001b[1;32m-> 3253\u001b[0m     \u001b[39mreturn\u001b[39;00m Signature\u001b[39m.\u001b[39;49mfrom_callable(obj, follow_wrapped\u001b[39m=\u001b[39;49mfollow_wrapped,\n\u001b[0;32m   3254\u001b[0m                                    \u001b[39mglobals\u001b[39;49m\u001b[39m=\u001b[39;49m\u001b[39mglobals\u001b[39;49m, \u001b[39mlocals\u001b[39;49m\u001b[39m=\u001b[39;49m\u001b[39mlocals\u001b[39;49m, eval_str\u001b[39m=\u001b[39;49meval_str)\n",
      "File \u001b[1;32md:\\veighna_elite\\lib\\inspect.py:3001\u001b[0m, in \u001b[0;36mSignature.from_callable\u001b[1;34m(cls, obj, follow_wrapped, globals, locals, eval_str)\u001b[0m\n\u001b[0;32m   2997\u001b[0m \u001b[39m@classmethod\u001b[39m\n\u001b[0;32m   2998\u001b[0m \u001b[39mdef\u001b[39;00m \u001b[39mfrom_callable\u001b[39m(\u001b[39mcls\u001b[39m, obj, \u001b[39m*\u001b[39m,\n\u001b[0;32m   2999\u001b[0m                   follow_wrapped\u001b[39m=\u001b[39m\u001b[39mTrue\u001b[39;00m, \u001b[39mglobals\u001b[39m\u001b[39m=\u001b[39m\u001b[39mNone\u001b[39;00m, \u001b[39mlocals\u001b[39m\u001b[39m=\u001b[39m\u001b[39mNone\u001b[39;00m, eval_str\u001b[39m=\u001b[39m\u001b[39mFalse\u001b[39;00m):\n\u001b[0;32m   3000\u001b[0m \u001b[39m    \u001b[39m\u001b[39m\"\"\"Constructs Signature for the given callable object.\"\"\"\u001b[39;00m\n\u001b[1;32m-> 3001\u001b[0m     \u001b[39mreturn\u001b[39;00m _signature_from_callable(obj, sigcls\u001b[39m=\u001b[39;49m\u001b[39mcls\u001b[39;49m,\n\u001b[0;32m   3002\u001b[0m                                     follow_wrapper_chains\u001b[39m=\u001b[39;49mfollow_wrapped,\n\u001b[0;32m   3003\u001b[0m                                     \u001b[39mglobals\u001b[39;49m\u001b[39m=\u001b[39;49m\u001b[39mglobals\u001b[39;49m, \u001b[39mlocals\u001b[39;49m\u001b[39m=\u001b[39;49m\u001b[39mlocals\u001b[39;49m, eval_str\u001b[39m=\u001b[39;49meval_str)\n",
      "File \u001b[1;32md:\\veighna_elite\\lib\\inspect.py:2467\u001b[0m, in \u001b[0;36m_signature_from_callable\u001b[1;34m(obj, follow_wrapper_chains, skip_bound_arg, globals, locals, eval_str, sigcls)\u001b[0m\n\u001b[0;32m   2462\u001b[0m     \u001b[39mreturn\u001b[39;00m _signature_from_function(sigcls, obj,\n\u001b[0;32m   2463\u001b[0m                                     skip_bound_arg\u001b[39m=\u001b[39mskip_bound_arg,\n\u001b[0;32m   2464\u001b[0m                                     \u001b[39mglobals\u001b[39m\u001b[39m=\u001b[39m\u001b[39mglobals\u001b[39m, \u001b[39mlocals\u001b[39m\u001b[39m=\u001b[39m\u001b[39mlocals\u001b[39m, eval_str\u001b[39m=\u001b[39meval_str)\n\u001b[0;32m   2466\u001b[0m \u001b[39mif\u001b[39;00m _signature_is_builtin(obj):\n\u001b[1;32m-> 2467\u001b[0m     \u001b[39mreturn\u001b[39;00m _signature_from_builtin(sigcls, obj,\n\u001b[0;32m   2468\u001b[0m                                    skip_bound_arg\u001b[39m=\u001b[39;49mskip_bound_arg)\n\u001b[0;32m   2470\u001b[0m \u001b[39mif\u001b[39;00m \u001b[39misinstance\u001b[39m(obj, functools\u001b[39m.\u001b[39mpartial):\n\u001b[0;32m   2471\u001b[0m     wrapped_sig \u001b[39m=\u001b[39m _get_signature_of(obj\u001b[39m.\u001b[39mfunc)\n",
      "File \u001b[1;32md:\\veighna_elite\\lib\\inspect.py:2274\u001b[0m, in \u001b[0;36m_signature_from_builtin\u001b[1;34m(cls, func, skip_bound_arg)\u001b[0m\n\u001b[0;32m   2272\u001b[0m s \u001b[39m=\u001b[39m \u001b[39mgetattr\u001b[39m(func, \u001b[39m\"\u001b[39m\u001b[39m__text_signature__\u001b[39m\u001b[39m\"\u001b[39m, \u001b[39mNone\u001b[39;00m)\n\u001b[0;32m   2273\u001b[0m \u001b[39mif\u001b[39;00m \u001b[39mnot\u001b[39;00m s:\n\u001b[1;32m-> 2274\u001b[0m     \u001b[39mraise\u001b[39;00m \u001b[39mValueError\u001b[39;00m(\u001b[39m\"\u001b[39m\u001b[39mno signature found for builtin \u001b[39m\u001b[39m{!r}\u001b[39;00m\u001b[39m\"\u001b[39m\u001b[39m.\u001b[39mformat(func))\n\u001b[0;32m   2276\u001b[0m \u001b[39mreturn\u001b[39;00m _signature_fromstr(\u001b[39mcls\u001b[39m, func, s, skip_bound_arg)\n",
      "\u001b[1;31mValueError\u001b[0m: no signature found for builtin <built-in function ADOSC>"
     ]
    }
   ],
   "source": [
    "for func, lag in func_pool:\n",
    "    parameters = inspect.signature(func).parameters"
   ]
  },
  {
   "cell_type": "code",
   "execution_count": 5,
   "metadata": {},
   "outputs": [],
   "source": [
    "import talib as ta"
   ]
  },
  {
   "cell_type": "code",
   "execution_count": 8,
   "metadata": {},
   "outputs": [
    {
     "data": {
      "text/plain": [
       "<function talib._ta_lib.ADOSC>"
      ]
     },
     "execution_count": 8,
     "metadata": {},
     "output_type": "execute_result"
    }
   ],
   "source": [
    "getattr(ta, feats[0][0])"
   ]
  }
 ],
 "metadata": {
  "kernelspec": {
   "display_name": "Python 3",
   "language": "python",
   "name": "python3"
  },
  "language_info": {
   "codemirror_mode": {
    "name": "ipython",
    "version": 3
   },
   "file_extension": ".py",
   "mimetype": "text/x-python",
   "name": "python",
   "nbconvert_exporter": "python",
   "pygments_lexer": "ipython3",
   "version": "3.10.9"
  },
  "orig_nbformat": 4
 },
 "nbformat": 4,
 "nbformat_minor": 2
}
