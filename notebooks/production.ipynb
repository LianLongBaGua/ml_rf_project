{
 "cells": [
  {
   "cell_type": "code",
   "execution_count": 29,
   "metadata": {},
   "outputs": [],
   "source": [
    "import sys\n",
    "sys.path.append('..')"
   ]
  },
  {
   "cell_type": "code",
   "execution_count": 30,
   "metadata": {},
   "outputs": [],
   "source": [
    "import pandas as pd\n",
    "import numpy as np\n",
    "import re\n",
    "from functools import partial\n",
    "from src.features_extraction import *\n",
    "from src.targets_extraction import *\n",
    "import matplotlib.pyplot as plt\n",
    "from src.useful_tools import *\n",
    "from sklearn.model_selection import ValidationCurveDisplay"
   ]
  },
  {
   "cell_type": "code",
   "execution_count": 31,
   "metadata": {},
   "outputs": [],
   "source": [
    "import talib as ta\n",
    "import sklearn.tree as tree\n",
    "import sklearn.metrics as metrics\n",
    "from sklearn.model_selection import train_test_split\n",
    "from sklearn.ensemble import RandomForestClassifier\n",
    "from sklearn.utils.class_weight import compute_class_weight"
   ]
  },
  {
   "cell_type": "code",
   "execution_count": 36,
   "metadata": {},
   "outputs": [
    {
     "name": "stdout",
     "output_type": "stream",
     "text": [
      "Generating desired position...\n",
      "Desired position generated\n"
     ]
    }
   ],
   "source": [
    "df = pd.read_csv(\"../data/data.csv\")\n",
    "df = prepare_desired_pos(df, lag=10, multiplier=10)"
   ]
  },
  {
   "cell_type": "code",
   "execution_count": 37,
   "metadata": {},
   "outputs": [
    {
     "name": "stdout",
     "output_type": "stream",
     "text": [
      "Generating original features...\n",
      "Generating momentum features...\n",
      "Generating math features...\n",
      "Generating pattern features...\n",
      "Generating time features...\n",
      "All features generated\n"
     ]
    }
   ],
   "source": [
    "df = generate_all_features_df(df, [i for i in range(7, 150, 7)])"
   ]
  },
  {
   "cell_type": "code",
   "execution_count": 38,
   "metadata": {},
   "outputs": [
    {
     "data": {
      "text/html": [
       "<div>\n",
       "<style scoped>\n",
       "    .dataframe tbody tr th:only-of-type {\n",
       "        vertical-align: middle;\n",
       "    }\n",
       "\n",
       "    .dataframe tbody tr th {\n",
       "        vertical-align: top;\n",
       "    }\n",
       "\n",
       "    .dataframe thead th {\n",
       "        text-align: right;\n",
       "    }\n",
       "</style>\n",
       "<table border=\"1\" class=\"dataframe\">\n",
       "  <thead>\n",
       "    <tr style=\"text-align: right;\">\n",
       "      <th></th>\n",
       "      <th>ADOSC_105</th>\n",
       "      <th>ADOSC_112</th>\n",
       "      <th>ADOSC_119</th>\n",
       "      <th>ADOSC_126</th>\n",
       "      <th>ADOSC_133</th>\n",
       "      <th>ADOSC_14</th>\n",
       "      <th>ADOSC_140</th>\n",
       "      <th>ADOSC_147</th>\n",
       "      <th>ADOSC_21</th>\n",
       "      <th>ADOSC_28</th>\n",
       "      <th>...</th>\n",
       "      <th>WILLR_91</th>\n",
       "      <th>WILLR_98</th>\n",
       "      <th>desired_pos_change</th>\n",
       "      <th>desired_pos_rolling</th>\n",
       "      <th>net_pos_signal</th>\n",
       "      <th>pos_change_signal</th>\n",
       "      <th>time_day_of_month</th>\n",
       "      <th>time_day_of_week</th>\n",
       "      <th>time_hour</th>\n",
       "      <th>time_minute</th>\n",
       "    </tr>\n",
       "  </thead>\n",
       "  <tbody>\n",
       "    <tr>\n",
       "      <th>441</th>\n",
       "      <td>-22065.848939</td>\n",
       "      <td>-23257.642988</td>\n",
       "      <td>-24347.271586</td>\n",
       "      <td>-25340.487482</td>\n",
       "      <td>-26243.196209</td>\n",
       "      <td>8.784841</td>\n",
       "      <td>-27061.294969</td>\n",
       "      <td>-27800.560887</td>\n",
       "      <td>-955.818957</td>\n",
       "      <td>-2516.936395</td>\n",
       "      <td>...</td>\n",
       "      <td>-58.974000</td>\n",
       "      <td>-49.137078</td>\n",
       "      <td>26.0</td>\n",
       "      <td>28</td>\n",
       "      <td>long hold</td>\n",
       "      <td>strong buy</td>\n",
       "      <td>28</td>\n",
       "      <td>2</td>\n",
       "      <td>10</td>\n",
       "      <td>51</td>\n",
       "    </tr>\n",
       "    <tr>\n",
       "      <th>442</th>\n",
       "      <td>-21995.129916</td>\n",
       "      <td>-23192.507991</td>\n",
       "      <td>-24287.870779</td>\n",
       "      <td>-25286.875706</td>\n",
       "      <td>-26195.357242</td>\n",
       "      <td>-95.829346</td>\n",
       "      <td>-27019.159663</td>\n",
       "      <td>-27764.020899</td>\n",
       "      <td>-991.673038</td>\n",
       "      <td>-2505.875209</td>\n",
       "      <td>...</td>\n",
       "      <td>-62.289155</td>\n",
       "      <td>-51.899262</td>\n",
       "      <td>32.0</td>\n",
       "      <td>60</td>\n",
       "      <td>long hold</td>\n",
       "      <td>strong buy</td>\n",
       "      <td>28</td>\n",
       "      <td>2</td>\n",
       "      <td>10</td>\n",
       "      <td>52</td>\n",
       "    </tr>\n",
       "    <tr>\n",
       "      <th>443</th>\n",
       "      <td>-21923.557760</td>\n",
       "      <td>-23126.469418</td>\n",
       "      <td>-24227.524862</td>\n",
       "      <td>-25232.285249</td>\n",
       "      <td>-26146.513036</td>\n",
       "      <td>-181.683678</td>\n",
       "      <td>-26975.998682</td>\n",
       "      <td>-27726.440110</td>\n",
       "      <td>-1020.431823</td>\n",
       "      <td>-2491.752849</td>\n",
       "      <td>...</td>\n",
       "      <td>-59.199813</td>\n",
       "      <td>-49.325226</td>\n",
       "      <td>25.0</td>\n",
       "      <td>85</td>\n",
       "      <td>long hold</td>\n",
       "      <td>strong buy</td>\n",
       "      <td>28</td>\n",
       "      <td>2</td>\n",
       "      <td>10</td>\n",
       "      <td>53</td>\n",
       "    </tr>\n",
       "    <tr>\n",
       "      <th>444</th>\n",
       "      <td>-21848.154236</td>\n",
       "      <td>-23056.733079</td>\n",
       "      <td>-24163.602186</td>\n",
       "      <td>-25174.229058</td>\n",
       "      <td>-26094.306004</td>\n",
       "      <td>-230.673924</td>\n",
       "      <td>-26929.571031</td>\n",
       "      <td>-27685.683074</td>\n",
       "      <td>-1028.547443</td>\n",
       "      <td>-2463.969866</td>\n",
       "      <td>...</td>\n",
       "      <td>-52.555661</td>\n",
       "      <td>-50.744839</td>\n",
       "      <td>18.0</td>\n",
       "      <td>103</td>\n",
       "      <td>long hold</td>\n",
       "      <td>strong buy</td>\n",
       "      <td>28</td>\n",
       "      <td>2</td>\n",
       "      <td>10</td>\n",
       "      <td>54</td>\n",
       "    </tr>\n",
       "    <tr>\n",
       "      <th>445</th>\n",
       "      <td>-21777.147871</td>\n",
       "      <td>-22991.015028</td>\n",
       "      <td>-24103.366342</td>\n",
       "      <td>-25119.568308</td>\n",
       "      <td>-26045.237084</td>\n",
       "      <td>-305.146101</td>\n",
       "      <td>-26886.053289</td>\n",
       "      <td>-27647.632788</td>\n",
       "      <td>-1057.110903</td>\n",
       "      <td>-2453.249117</td>\n",
       "      <td>...</td>\n",
       "      <td>-49.452311</td>\n",
       "      <td>-47.748415</td>\n",
       "      <td>16.0</td>\n",
       "      <td>119</td>\n",
       "      <td>long hold</td>\n",
       "      <td>strong buy</td>\n",
       "      <td>28</td>\n",
       "      <td>2</td>\n",
       "      <td>10</td>\n",
       "      <td>55</td>\n",
       "    </tr>\n",
       "    <tr>\n",
       "      <th>...</th>\n",
       "      <td>...</td>\n",
       "      <td>...</td>\n",
       "      <td>...</td>\n",
       "      <td>...</td>\n",
       "      <td>...</td>\n",
       "      <td>...</td>\n",
       "      <td>...</td>\n",
       "      <td>...</td>\n",
       "      <td>...</td>\n",
       "      <td>...</td>\n",
       "      <td>...</td>\n",
       "      <td>...</td>\n",
       "      <td>...</td>\n",
       "      <td>...</td>\n",
       "      <td>...</td>\n",
       "      <td>...</td>\n",
       "      <td>...</td>\n",
       "      <td>...</td>\n",
       "      <td>...</td>\n",
       "      <td>...</td>\n",
       "      <td>...</td>\n",
       "    </tr>\n",
       "    <tr>\n",
       "      <th>379710</th>\n",
       "      <td>14757.566022</td>\n",
       "      <td>16743.186337</td>\n",
       "      <td>18746.339615</td>\n",
       "      <td>20754.601943</td>\n",
       "      <td>22757.407101</td>\n",
       "      <td>-399.803190</td>\n",
       "      <td>24745.884965</td>\n",
       "      <td>26712.680226</td>\n",
       "      <td>-909.346163</td>\n",
       "      <td>-808.933483</td>\n",
       "      <td>...</td>\n",
       "      <td>-80.383770</td>\n",
       "      <td>-85.718050</td>\n",
       "      <td>8.0</td>\n",
       "      <td>-36</td>\n",
       "      <td>short hold</td>\n",
       "      <td>buy</td>\n",
       "      <td>27</td>\n",
       "      <td>3</td>\n",
       "      <td>22</td>\n",
       "      <td>45</td>\n",
       "    </tr>\n",
       "    <tr>\n",
       "      <th>379711</th>\n",
       "      <td>14670.719791</td>\n",
       "      <td>16652.006847</td>\n",
       "      <td>18651.549525</td>\n",
       "      <td>20656.860979</td>\n",
       "      <td>22657.318147</td>\n",
       "      <td>-294.803166</td>\n",
       "      <td>24643.998474</td>\n",
       "      <td>26609.497750</td>\n",
       "      <td>-815.902381</td>\n",
       "      <td>-744.680358</td>\n",
       "      <td>...</td>\n",
       "      <td>-78.367822</td>\n",
       "      <td>-82.316806</td>\n",
       "      <td>5.0</td>\n",
       "      <td>-31</td>\n",
       "      <td>short hold</td>\n",
       "      <td>buy</td>\n",
       "      <td>27</td>\n",
       "      <td>3</td>\n",
       "      <td>22</td>\n",
       "      <td>46</td>\n",
       "    </tr>\n",
       "    <tr>\n",
       "      <th>379712</th>\n",
       "      <td>14592.218407</td>\n",
       "      <td>16568.653391</td>\n",
       "      <td>18564.120974</td>\n",
       "      <td>20566.063207</td>\n",
       "      <td>22563.793558</td>\n",
       "      <td>-151.375217</td>\n",
       "      <td>24548.331637</td>\n",
       "      <td>26512.219884</td>\n",
       "      <td>-693.612536</td>\n",
       "      <td>-656.362476</td>\n",
       "      <td>...</td>\n",
       "      <td>-71.103372</td>\n",
       "      <td>-73.736628</td>\n",
       "      <td>-2.0</td>\n",
       "      <td>-33</td>\n",
       "      <td>short hold</td>\n",
       "      <td>sell</td>\n",
       "      <td>27</td>\n",
       "      <td>3</td>\n",
       "      <td>22</td>\n",
       "      <td>47</td>\n",
       "    </tr>\n",
       "    <tr>\n",
       "      <th>379713</th>\n",
       "      <td>14519.034181</td>\n",
       "      <td>16490.297443</td>\n",
       "      <td>18481.400158</td>\n",
       "      <td>20479.709318</td>\n",
       "      <td>22474.471604</td>\n",
       "      <td>3.338113</td>\n",
       "      <td>24456.646009</td>\n",
       "      <td>26418.719286</td>\n",
       "      <td>-559.720414</td>\n",
       "      <td>-556.556868</td>\n",
       "      <td>...</td>\n",
       "      <td>-72.034022</td>\n",
       "      <td>-74.582471</td>\n",
       "      <td>1.0</td>\n",
       "      <td>-32</td>\n",
       "      <td>short hold</td>\n",
       "      <td>meh</td>\n",
       "      <td>27</td>\n",
       "      <td>3</td>\n",
       "      <td>22</td>\n",
       "      <td>48</td>\n",
       "    </tr>\n",
       "    <tr>\n",
       "      <th>379714</th>\n",
       "      <td>14447.299055</td>\n",
       "      <td>16413.317392</td>\n",
       "      <td>18399.982502</td>\n",
       "      <td>20394.587315</td>\n",
       "      <td>22386.312310</td>\n",
       "      <td>140.497146</td>\n",
       "      <td>24366.056193</td>\n",
       "      <td>26326.250214</td>\n",
       "      <td>-433.801949</td>\n",
       "      <td>-460.034336</td>\n",
       "      <td>...</td>\n",
       "      <td>-73.962363</td>\n",
       "      <td>-74.185655</td>\n",
       "      <td>6.0</td>\n",
       "      <td>-26</td>\n",
       "      <td>short hold</td>\n",
       "      <td>buy</td>\n",
       "      <td>27</td>\n",
       "      <td>3</td>\n",
       "      <td>22</td>\n",
       "      <td>49</td>\n",
       "    </tr>\n",
       "  </tbody>\n",
       "</table>\n",
       "<p>379274 rows × 789 columns</p>\n",
       "</div>"
      ],
      "text/plain": [
       "           ADOSC_105     ADOSC_112     ADOSC_119     ADOSC_126     ADOSC_133  \\\n",
       "441    -22065.848939 -23257.642988 -24347.271586 -25340.487482 -26243.196209   \n",
       "442    -21995.129916 -23192.507991 -24287.870779 -25286.875706 -26195.357242   \n",
       "443    -21923.557760 -23126.469418 -24227.524862 -25232.285249 -26146.513036   \n",
       "444    -21848.154236 -23056.733079 -24163.602186 -25174.229058 -26094.306004   \n",
       "445    -21777.147871 -22991.015028 -24103.366342 -25119.568308 -26045.237084   \n",
       "...              ...           ...           ...           ...           ...   \n",
       "379710  14757.566022  16743.186337  18746.339615  20754.601943  22757.407101   \n",
       "379711  14670.719791  16652.006847  18651.549525  20656.860979  22657.318147   \n",
       "379712  14592.218407  16568.653391  18564.120974  20566.063207  22563.793558   \n",
       "379713  14519.034181  16490.297443  18481.400158  20479.709318  22474.471604   \n",
       "379714  14447.299055  16413.317392  18399.982502  20394.587315  22386.312310   \n",
       "\n",
       "          ADOSC_14     ADOSC_140     ADOSC_147     ADOSC_21     ADOSC_28  ...  \\\n",
       "441       8.784841 -27061.294969 -27800.560887  -955.818957 -2516.936395  ...   \n",
       "442     -95.829346 -27019.159663 -27764.020899  -991.673038 -2505.875209  ...   \n",
       "443    -181.683678 -26975.998682 -27726.440110 -1020.431823 -2491.752849  ...   \n",
       "444    -230.673924 -26929.571031 -27685.683074 -1028.547443 -2463.969866  ...   \n",
       "445    -305.146101 -26886.053289 -27647.632788 -1057.110903 -2453.249117  ...   \n",
       "...            ...           ...           ...          ...          ...  ...   \n",
       "379710 -399.803190  24745.884965  26712.680226  -909.346163  -808.933483  ...   \n",
       "379711 -294.803166  24643.998474  26609.497750  -815.902381  -744.680358  ...   \n",
       "379712 -151.375217  24548.331637  26512.219884  -693.612536  -656.362476  ...   \n",
       "379713    3.338113  24456.646009  26418.719286  -559.720414  -556.556868  ...   \n",
       "379714  140.497146  24366.056193  26326.250214  -433.801949  -460.034336  ...   \n",
       "\n",
       "         WILLR_91   WILLR_98  desired_pos_change  desired_pos_rolling  \\\n",
       "441    -58.974000 -49.137078                26.0                   28   \n",
       "442    -62.289155 -51.899262                32.0                   60   \n",
       "443    -59.199813 -49.325226                25.0                   85   \n",
       "444    -52.555661 -50.744839                18.0                  103   \n",
       "445    -49.452311 -47.748415                16.0                  119   \n",
       "...           ...        ...                 ...                  ...   \n",
       "379710 -80.383770 -85.718050                 8.0                  -36   \n",
       "379711 -78.367822 -82.316806                 5.0                  -31   \n",
       "379712 -71.103372 -73.736628                -2.0                  -33   \n",
       "379713 -72.034022 -74.582471                 1.0                  -32   \n",
       "379714 -73.962363 -74.185655                 6.0                  -26   \n",
       "\n",
       "        net_pos_signal  pos_change_signal  time_day_of_month  \\\n",
       "441          long hold         strong buy                 28   \n",
       "442          long hold         strong buy                 28   \n",
       "443          long hold         strong buy                 28   \n",
       "444          long hold         strong buy                 28   \n",
       "445          long hold         strong buy                 28   \n",
       "...                ...                ...                ...   \n",
       "379710      short hold                buy                 27   \n",
       "379711      short hold                buy                 27   \n",
       "379712      short hold               sell                 27   \n",
       "379713      short hold                meh                 27   \n",
       "379714      short hold                buy                 27   \n",
       "\n",
       "        time_day_of_week  time_hour  time_minute  \n",
       "441                    2         10           51  \n",
       "442                    2         10           52  \n",
       "443                    2         10           53  \n",
       "444                    2         10           54  \n",
       "445                    2         10           55  \n",
       "...                  ...        ...          ...  \n",
       "379710                 3         22           45  \n",
       "379711                 3         22           46  \n",
       "379712                 3         22           47  \n",
       "379713                 3         22           48  \n",
       "379714                 3         22           49  \n",
       "\n",
       "[379274 rows x 789 columns]"
      ]
     },
     "execution_count": 38,
     "metadata": {},
     "output_type": "execute_result"
    }
   ],
   "source": [
    "df = keep_essentials(df)"
   ]
  },
  {
   "cell_type": "code",
   "execution_count": 40,
   "metadata": {},
   "outputs": [],
   "source": [
    "df = drop_ohlcv_cols(df)"
   ]
  },
  {
   "cell_type": "code",
   "execution_count": 41,
   "metadata": {},
   "outputs": [
    {
     "name": "stdout",
     "output_type": "stream",
     "text": [
      "Splitting features/target\n"
     ]
    }
   ],
   "source": [
    "X, y = split_features_target(df)"
   ]
  },
  {
   "cell_type": "code",
   "execution_count": 42,
   "metadata": {},
   "outputs": [],
   "source": [
    "X_train, X_test, y_train, y_test = train_test_split(X, y, test_size=0.2)"
   ]
  },
  {
   "cell_type": "code",
   "execution_count": null,
   "metadata": {},
   "outputs": [],
   "source": [
    "clf = tree.DecisionTreeClassifier(min_samples_split=10000, min_samples_leaf=1000)"
   ]
  },
  {
   "cell_type": "code",
   "execution_count": 43,
   "metadata": {},
   "outputs": [
    {
     "data": {
      "text/html": [
       "<style>#sk-container-id-1 {color: black;}#sk-container-id-1 pre{padding: 0;}#sk-container-id-1 div.sk-toggleable {background-color: white;}#sk-container-id-1 label.sk-toggleable__label {cursor: pointer;display: block;width: 100%;margin-bottom: 0;padding: 0.3em;box-sizing: border-box;text-align: center;}#sk-container-id-1 label.sk-toggleable__label-arrow:before {content: \"▸\";float: left;margin-right: 0.25em;color: #696969;}#sk-container-id-1 label.sk-toggleable__label-arrow:hover:before {color: black;}#sk-container-id-1 div.sk-estimator:hover label.sk-toggleable__label-arrow:before {color: black;}#sk-container-id-1 div.sk-toggleable__content {max-height: 0;max-width: 0;overflow: hidden;text-align: left;background-color: #f0f8ff;}#sk-container-id-1 div.sk-toggleable__content pre {margin: 0.2em;color: black;border-radius: 0.25em;background-color: #f0f8ff;}#sk-container-id-1 input.sk-toggleable__control:checked~div.sk-toggleable__content {max-height: 200px;max-width: 100%;overflow: auto;}#sk-container-id-1 input.sk-toggleable__control:checked~label.sk-toggleable__label-arrow:before {content: \"▾\";}#sk-container-id-1 div.sk-estimator input.sk-toggleable__control:checked~label.sk-toggleable__label {background-color: #d4ebff;}#sk-container-id-1 div.sk-label input.sk-toggleable__control:checked~label.sk-toggleable__label {background-color: #d4ebff;}#sk-container-id-1 input.sk-hidden--visually {border: 0;clip: rect(1px 1px 1px 1px);clip: rect(1px, 1px, 1px, 1px);height: 1px;margin: -1px;overflow: hidden;padding: 0;position: absolute;width: 1px;}#sk-container-id-1 div.sk-estimator {font-family: monospace;background-color: #f0f8ff;border: 1px dotted black;border-radius: 0.25em;box-sizing: border-box;margin-bottom: 0.5em;}#sk-container-id-1 div.sk-estimator:hover {background-color: #d4ebff;}#sk-container-id-1 div.sk-parallel-item::after {content: \"\";width: 100%;border-bottom: 1px solid gray;flex-grow: 1;}#sk-container-id-1 div.sk-label:hover label.sk-toggleable__label {background-color: #d4ebff;}#sk-container-id-1 div.sk-serial::before {content: \"\";position: absolute;border-left: 1px solid gray;box-sizing: border-box;top: 0;bottom: 0;left: 50%;z-index: 0;}#sk-container-id-1 div.sk-serial {display: flex;flex-direction: column;align-items: center;background-color: white;padding-right: 0.2em;padding-left: 0.2em;position: relative;}#sk-container-id-1 div.sk-item {position: relative;z-index: 1;}#sk-container-id-1 div.sk-parallel {display: flex;align-items: stretch;justify-content: center;background-color: white;position: relative;}#sk-container-id-1 div.sk-item::before, #sk-container-id-1 div.sk-parallel-item::before {content: \"\";position: absolute;border-left: 1px solid gray;box-sizing: border-box;top: 0;bottom: 0;left: 50%;z-index: -1;}#sk-container-id-1 div.sk-parallel-item {display: flex;flex-direction: column;z-index: 1;position: relative;background-color: white;}#sk-container-id-1 div.sk-parallel-item:first-child::after {align-self: flex-end;width: 50%;}#sk-container-id-1 div.sk-parallel-item:last-child::after {align-self: flex-start;width: 50%;}#sk-container-id-1 div.sk-parallel-item:only-child::after {width: 0;}#sk-container-id-1 div.sk-dashed-wrapped {border: 1px dashed gray;margin: 0 0.4em 0.5em 0.4em;box-sizing: border-box;padding-bottom: 0.4em;background-color: white;}#sk-container-id-1 div.sk-label label {font-family: monospace;font-weight: bold;display: inline-block;line-height: 1.2em;}#sk-container-id-1 div.sk-label-container {text-align: center;}#sk-container-id-1 div.sk-container {/* jupyter's `normalize.less` sets `[hidden] { display: none; }` but bootstrap.min.css set `[hidden] { display: none !important; }` so we also need the `!important` here to be able to override the default hidden behavior on the sphinx rendered scikit-learn.org. See: https://github.com/scikit-learn/scikit-learn/issues/21755 */display: inline-block !important;position: relative;}#sk-container-id-1 div.sk-text-repr-fallback {display: none;}</style><div id=\"sk-container-id-1\" class=\"sk-top-container\"><div class=\"sk-text-repr-fallback\"><pre>DecisionTreeClassifier(min_samples_leaf=1000, min_samples_split=10000)</pre><b>In a Jupyter environment, please rerun this cell to show the HTML representation or trust the notebook. <br />On GitHub, the HTML representation is unable to render, please try loading this page with nbviewer.org.</b></div><div class=\"sk-container\" hidden><div class=\"sk-item\"><div class=\"sk-estimator sk-toggleable\"><input class=\"sk-toggleable__control sk-hidden--visually\" id=\"sk-estimator-id-1\" type=\"checkbox\" checked><label for=\"sk-estimator-id-1\" class=\"sk-toggleable__label sk-toggleable__label-arrow\">DecisionTreeClassifier</label><div class=\"sk-toggleable__content\"><pre>DecisionTreeClassifier(min_samples_leaf=1000, min_samples_split=10000)</pre></div></div></div></div></div>"
      ],
      "text/plain": [
       "DecisionTreeClassifier(min_samples_leaf=1000, min_samples_split=10000)"
      ]
     },
     "execution_count": 43,
     "metadata": {},
     "output_type": "execute_result"
    }
   ],
   "source": [
    "clf.fit(X_train, y_train['pos_change_signal'])"
   ]
  },
  {
   "cell_type": "code",
   "execution_count": 45,
   "metadata": {},
   "outputs": [],
   "source": [
    "ValidationCurveDisplay.from_estimator(\n",
    "    clf, X, y['pos_change_signal'], param_name='max_depth', param_range=[i for i in range(1, 50, 5)], scoring='accuracy'\n",
    ")"
   ]
  },
  {
   "cell_type": "code",
   "execution_count": null,
   "metadata": {},
   "outputs": [],
   "source": [
    "clf = RandomForestClassifier(n_estimators=1000, min_samples_split=10000)"
   ]
  },
  {
   "cell_type": "code",
   "execution_count": null,
   "metadata": {},
   "outputs": [],
   "source": [
    "X_train"
   ]
  },
  {
   "cell_type": "code",
   "execution_count": null,
   "metadata": {},
   "outputs": [],
   "source": [
    "clf.fit(X_train, y_train)"
   ]
  },
  {
   "cell_type": "code",
   "execution_count": null,
   "metadata": {},
   "outputs": [],
   "source": [
    "print(metrics.classification_report(y_test, clf.predict(X_test)))"
   ]
  },
  {
   "cell_type": "code",
   "execution_count": null,
   "metadata": {},
   "outputs": [],
   "source": [
    "df = pd.read_csv(\"../data/data.csv\")"
   ]
  },
  {
   "cell_type": "code",
   "execution_count": null,
   "metadata": {},
   "outputs": [],
   "source": [
    "df = prepare_desired_pos(df, 10, 10)"
   ]
  },
  {
   "cell_type": "code",
   "execution_count": null,
   "metadata": {},
   "outputs": [],
   "source": [
    "df.desired_pos_change.plot()"
   ]
  },
  {
   "cell_type": "code",
   "execution_count": null,
   "metadata": {},
   "outputs": [],
   "source": [
    "df[['pos_change_signal', 'net_pos_signal']].value_counts().plot(kind='pie')"
   ]
  },
  {
   "cell_type": "code",
   "execution_count": null,
   "metadata": {},
   "outputs": [],
   "source": [
    "rle(df, True)"
   ]
  },
  {
   "cell_type": "code",
   "execution_count": null,
   "metadata": {},
   "outputs": [],
   "source": [
    "df['daily_pnl'] = df['desired_pos_rolling'] * (df['close'] - df['open'])"
   ]
  },
  {
   "cell_type": "code",
   "execution_count": null,
   "metadata": {},
   "outputs": [],
   "source": [
    "df.daily_pnl.cumsum().plot()"
   ]
  },
  {
   "cell_type": "code",
   "execution_count": null,
   "metadata": {},
   "outputs": [],
   "source": [
    "output = ta_map[\"SMA\"](inputs)"
   ]
  },
  {
   "cell_type": "code",
   "execution_count": null,
   "metadata": {},
   "outputs": [],
   "source": [
    "output"
   ]
  },
  {
   "cell_type": "code",
   "execution_count": null,
   "metadata": {},
   "outputs": [],
   "source": [
    "ta.RSI.parameters"
   ]
  },
  {
   "cell_type": "code",
   "execution_count": null,
   "metadata": {},
   "outputs": [],
   "source": [
    "from talib import abstract\n",
    "\n",
    "abstract.SMA.parameters"
   ]
  },
  {
   "cell_type": "code",
   "execution_count": null,
   "metadata": {},
   "outputs": [],
   "source": [
    "df = pd.read_csv(\"data.csv\")"
   ]
  },
  {
   "cell_type": "code",
   "execution_count": null,
   "metadata": {},
   "outputs": [],
   "source": [
    "generate_time_features(df)"
   ]
  },
  {
   "cell_type": "code",
   "execution_count": null,
   "metadata": {},
   "outputs": [],
   "source": [
    "df.datetime"
   ]
  },
  {
   "cell_type": "code",
   "execution_count": null,
   "metadata": {},
   "outputs": [],
   "source": [
    "with open(\"feature_names.txt\", \"r\") as f:\n",
    "    features = f.read()"
   ]
  },
  {
   "cell_type": "code",
   "execution_count": null,
   "metadata": {},
   "outputs": [],
   "source": [
    "import re"
   ]
  },
  {
   "cell_type": "markdown",
   "metadata": {},
   "source": [
    "# Save this for production use!"
   ]
  },
  {
   "cell_type": "code",
   "execution_count": null,
   "metadata": {},
   "outputs": [],
   "source": [
    "with open(\"feature_names.txt\", \"r\") as f:\n",
    "    features = f.read()\n",
    "feats = re.findall(r\"(\\w+\\D)(\\d+\\b)\", features)\n",
    "func_pool = []"
   ]
  },
  {
   "cell_type": "code",
   "execution_count": null,
   "metadata": {},
   "outputs": [],
   "source": [
    "for func in feats:\n",
    "    if func[0] == \"MACDHIST\" or func[0] == \"MACDSIGNAL\":\n",
    "        continue\n",
    "    if func[0] == \"MACDSIGNALFIX\" or func[0] == \"MACDHISTFIX\":\n",
    "        continue\n",
    "    if func[0] == \"STOCHRSI_k\" or func[0] == \"STOCHRSI_d\":\n",
    "        continue\n",
    "    if func[0] == \"HT_PHASORinphase\" or func[0] == \"HT_PHASORquadrature\":\n",
    "        func[0] = \"HT_PHASOR\"\n",
    "    if func[0] == \"HT_SINEsine\" or func[0] == \"HT_SINEleadsine\":\n",
    "        func[0] = \"HT_SINE\"\n",
    "    function = getattr(ta, func[0])\n",
    "    func_pool.append((function, int(func[1])))"
   ]
  },
  {
   "cell_type": "code",
   "execution_count": null,
   "metadata": {},
   "outputs": [],
   "source": [
    "inspect.signature(func_pool[0][0])"
   ]
  },
  {
   "cell_type": "code",
   "execution_count": null,
   "metadata": {},
   "outputs": [],
   "source": [
    "import inspect"
   ]
  },
  {
   "cell_type": "code",
   "execution_count": null,
   "metadata": {},
   "outputs": [],
   "source": [
    "for func, lag in func_pool:\n",
    "    parameters = inspect.signature(func).parameters"
   ]
  },
  {
   "cell_type": "code",
   "execution_count": null,
   "metadata": {},
   "outputs": [],
   "source": [
    "import talib as ta"
   ]
  },
  {
   "cell_type": "code",
   "execution_count": null,
   "metadata": {},
   "outputs": [],
   "source": [
    "getattr(ta, feats[0][0])"
   ]
  }
 ],
 "metadata": {
  "kernelspec": {
   "display_name": "Python 3",
   "language": "python",
   "name": "python3"
  },
  "language_info": {
   "codemirror_mode": {
    "name": "ipython",
    "version": 3
   },
   "file_extension": ".py",
   "mimetype": "text/x-python",
   "name": "python",
   "nbconvert_exporter": "python",
   "pygments_lexer": "ipython3",
   "version": "3.10.9"
  },
  "orig_nbformat": 4
 },
 "nbformat": 4,
 "nbformat_minor": 2
}
